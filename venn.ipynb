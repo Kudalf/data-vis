{
 "cells": [
  {
   "cell_type": "code",
   "execution_count": 58,
   "metadata": {},
   "outputs": [],
   "source": [
    "import numpy as np\n",
    "from matplotlib_venn import venn2, venn3"
   ]
  },
  {
   "cell_type": "code",
   "execution_count": 59,
   "metadata": {},
   "outputs": [
    {
     "name": "stdout",
     "output_type": "stream",
     "text": [
      "14411\n"
     ]
    },
    {
     "data": {
      "image/png": "[encoded data removed]",
      "text/plain": [
       "<Figure size 432x288 with 1 Axes>"
      ]
     },
     "metadata": {},
     "output_type": "display_data"
    }
   ],
   "source": [
    "def venn_diagram(a, b, c, labels=['A', 'B', 'C']):\n",
    "\n",
    "    a = set(a)\n",
    "    b = set(b)\n",
    "    c = set(c)\n",
    "\n",
    "    only_a = len(a - b - c)\n",
    "    only_b = len(b - a - c)\n",
    "    only_c = len(c - a - b)\n",
    "\n",
    "    print(only_a)\n",
    "\n",
    "    only_a_b = len(a & b - c)\n",
    "    only_a_c = len(a & c - b)\n",
    "    only_b_c = len(b & c - a)\n",
    "\n",
    "    a_b_c = len(a & b & c)\n",
    "\n",
    "    venn3(subsets=(only_a, only_b, only_a_b, only_c, only_a_c, only_b_c, a_b_c), set_labels=labels)\n",
    "\n",
    "a, b, c = np.round(np.random.rand(3, 50000), 5)\n",
    "venn_diagram(a, b, c)"
   ]
  },
  {
   "cell_type": "code",
   "execution_count": 2,
   "metadata": {},
   "outputs": [],
   "source": [
    "import pandas as pd\n",
    "import matplotlib.pyplot as plt\n",
    "\n",
    "import warnings\n",
    "warnings.simplefilter(\"ignore\")"
   ]
  },
  {
   "cell_type": "code",
   "execution_count": 3,
   "metadata": {},
   "outputs": [
    {
     "name": "stdout",
     "output_type": "stream",
     "text": [
      "<class 'pandas.core.frame.DataFrame'>\n",
      "RangeIndex: 743 entries, 0 to 742\n",
      "Data columns (total 4 columns):\n",
      " #   Column      Non-Null Count  Dtype \n",
      "---  ------      --------------  ----- \n",
      " 0   Name        743 non-null    object\n",
      " 1   Discipline  743 non-null    object\n",
      " 2   NOC         743 non-null    object\n",
      " 3   Event       743 non-null    object\n",
      "dtypes: object(4)\n",
      "memory usage: 23.3+ KB\n",
      "None\n",
      "<class 'pandas.core.frame.DataFrame'>\n",
      "RangeIndex: 11085 entries, 0 to 11084\n",
      "Data columns (total 3 columns):\n",
      " #   Column      Non-Null Count  Dtype \n",
      "---  ------      --------------  ----- \n",
      " 0   Name        11085 non-null  object\n",
      " 1   NOC         11085 non-null  object\n",
      " 2   Discipline  11085 non-null  object\n",
      "dtypes: object(3)\n",
      "memory usage: 259.9+ KB\n",
      "None\n",
      "<class 'pandas.core.frame.DataFrame'>\n",
      "RangeIndex: 93 entries, 0 to 92\n",
      "Data columns (total 9 columns):\n",
      " #   Column         Non-Null Count  Dtype  \n",
      "---  ------         --------------  -----  \n",
      " 0   Rank           93 non-null     int64  \n",
      " 1   Team/NOC       93 non-null     object \n",
      " 2   Gold           93 non-null     int64  \n",
      " 3   Silver         93 non-null     int64  \n",
      " 4   Bronze         93 non-null     int64  \n",
      " 5   Total          93 non-null     int64  \n",
      " 6   Rank by Total  93 non-null     int64  \n",
      " 7   Unnamed: 7     0 non-null      float64\n",
      " 8   Unnamed: 8     1 non-null      float64\n",
      "dtypes: float64(2), int64(6), object(1)\n",
      "memory usage: 6.7+ KB\n",
      "None\n",
      "<class 'pandas.core.frame.DataFrame'>\n",
      "RangeIndex: 46 entries, 0 to 45\n",
      "Data columns (total 4 columns):\n",
      " #   Column      Non-Null Count  Dtype \n",
      "---  ------      --------------  ----- \n",
      " 0   Discipline  46 non-null     object\n",
      " 1   Female      46 non-null     int64 \n",
      " 2   Male        46 non-null     int64 \n",
      " 3   Total       46 non-null     int64 \n",
      "dtypes: int64(3), object(1)\n",
      "memory usage: 1.6+ KB\n",
      "None\n"
     ]
    }
   ],
   "source": [
    "df_teams = pd.read_excel(\"data/Teams.xlsx\")\n",
    "df_atheletes = pd.read_excel(\"data/Athletes.xlsx\")\n",
    "df_medals = pd.read_excel(\"data/Medals.xlsx\")\n",
    "df_entries = pd.read_excel(\"data/EntriesGender.xlsx\")\n",
    "print(df_teams.info())\n",
    "print(df_atheletes.info())\n",
    "print(df_medals.info())\n",
    "print(df_entries.info())"
   ]
  },
  {
   "cell_type": "code",
   "execution_count": 19,
   "metadata": {},
   "outputs": [
    {
     "data": {
      "text/plain": [
       "{'Archery', 'Athletics', 'Hockey', 'Table Tennis'}"
      ]
     },
     "execution_count": 19,
     "metadata": {},
     "output_type": "execute_result"
    }
   ],
   "source": [
    "disciplines_india = set(df_teams[df_teams['NOC'] == 'India']['Discipline'].values.tolist())\n",
    "disciplines_india"
   ]
  },
  {
   "cell_type": "code",
   "execution_count": 65,
   "metadata": {},
   "outputs": [
    {
     "name": "stdout",
     "output_type": "stream",
     "text": [
      "46 {'Artistic Swimming', 'Modern Pentathlon', 'Beach Volleyball', 'Handball', 'Rowing', 'Volleyball', 'Badminton', 'Judo', 'Boxing', 'Football', 'Canoe Slalom', 'Weightlifting', 'Marathon Swimming', 'Diving', 'Swimming', 'Karate', 'Archery', 'Cycling Track', 'Sailing', 'Shooting', '3x3 Basketball', 'Rugby Sevens', 'Tennis', 'Triathlon', 'Taekwondo', 'Wrestling', 'Canoe Sprint', 'Baseball/Softball', 'Basketball', 'Cycling BMX Freestyle', 'Equestrian', 'Fencing', 'Hockey', 'Golf', 'Artistic Gymnastics', 'Cycling Road', 'Cycling BMX Racing', 'Table Tennis', 'Skateboarding', 'Water Polo', 'Rhythmic Gymnastics', 'Trampoline Gymnastics', 'Sport Climbing', 'Cycling Mountain Bike', 'Athletics', 'Surfing'}\n"
     ]
    }
   ],
   "source": [
    "disciplines = set(df_entries['Discipline'].value_counts().index.tolist())\n",
    "print(len(disciplines), disciplines)"
   ]
  },
  {
   "cell_type": "code",
   "execution_count": 34,
   "metadata": {},
   "outputs": [
    {
     "data": {
      "text/plain": [
       "(4, {'Archery', 'Athletics', 'Hockey', 'Table Tennis'})"
      ]
     },
     "execution_count": 34,
     "metadata": {},
     "output_type": "execute_result"
    }
   ],
   "source": [
    "len(disciplines & disciplines_india), (disciplines & disciplines_india)"
   ]
  },
  {
   "cell_type": "code",
   "execution_count": 66,
   "metadata": {},
   "outputs": [
    {
     "name": "stdout",
     "output_type": "stream",
     "text": [
      "42 {'Artistic Swimming', 'Modern Pentathlon', 'Beach Volleyball', 'Handball', 'Rowing', 'Volleyball', 'Badminton', 'Judo', 'Boxing', 'Football', 'Canoe Slalom', 'Weightlifting', 'Marathon Swimming', 'Diving', 'Swimming', 'Karate', 'Cycling Track', 'Sailing', 'Shooting', '3x3 Basketball', 'Rugby Sevens', 'Tennis', 'Triathlon', 'Taekwondo', 'Wrestling', 'Canoe Sprint', 'Baseball/Softball', 'Basketball', 'Cycling BMX Freestyle', 'Equestrian', 'Fencing', 'Golf', 'Artistic Gymnastics', 'Cycling Road', 'Cycling BMX Racing', 'Skateboarding', 'Water Polo', 'Rhythmic Gymnastics', 'Trampoline Gymnastics', 'Sport Climbing', 'Cycling Mountain Bike', 'Surfing'}\n"
     ]
    }
   ],
   "source": [
    "print(len(disciplines - disciplines_india), disciplines - disciplines_india)"
   ]
  },
  {
   "cell_type": "code",
   "execution_count": 60,
   "metadata": {},
   "outputs": [
    {
     "data": {
      "text/plain": [
       "<matplotlib_venn._common.VennDiagram at 0x7fbe357f7d60>"
      ]
     },
     "execution_count": 60,
     "metadata": {},
     "output_type": "execute_result"
    },
    {
     "data": {
      "image/png": "[encoded data removed]",
      "text/plain": [
       "<Figure size 432x288 with 1 Axes>"
      ]
     },
     "metadata": {},
     "output_type": "display_data"
    }
   ],
   "source": [
    "venn2(subsets = (50, 10, 7), set_labels = ('Group A', 'Group B'))#, set_colors=(\"orange\",\"blue\"),alpha=0.7)"
   ]
  },
  {
   "cell_type": "code",
   "execution_count": 64,
   "metadata": {},
   "outputs": [
    {
     "data": {
      "image/png": "[encoded data removed]",
      "text/plain": [
       "<Figure size 432x288 with 1 Axes>"
      ]
     },
     "metadata": {},
     "output_type": "display_data"
    }
   ],
   "source": [
    "venn2(  subsets=(len(disciplines-disciplines_india), len(disciplines_india-disciplines), len(disciplines & disciplines_india)), \n",
    "        set_labels=('All', 'India'), set_colors=(\"orange\",\"blue\"),alpha=0.7)\n",
    "\n",
    "plt.show()"
   ]
  },
  {
   "cell_type": "code",
   "execution_count": 70,
   "metadata": {},
   "outputs": [
    {
     "data": {
      "text/html": [
       "<div>\n",
       "<style scoped>\n",
       "    .dataframe tbody tr th:only-of-type {\n",
       "        vertical-align: middle;\n",
       "    }\n",
       "\n",
       "    .dataframe tbody tr th {\n",
       "        vertical-align: top;\n",
       "    }\n",
       "\n",
       "    .dataframe thead th {\n",
       "        text-align: right;\n",
       "    }\n",
       "</style>\n",
       "<table border=\"1\" class=\"dataframe\">\n",
       "  <thead>\n",
       "    <tr style=\"text-align: right;\">\n",
       "      <th></th>\n",
       "      <th>Rank</th>\n",
       "      <th>Team/NOC</th>\n",
       "      <th>Gold</th>\n",
       "      <th>Silver</th>\n",
       "      <th>Bronze</th>\n",
       "      <th>Total</th>\n",
       "      <th>Rank by Total</th>\n",
       "      <th>Unnamed: 7</th>\n",
       "      <th>Unnamed: 8</th>\n",
       "    </tr>\n",
       "  </thead>\n",
       "  <tbody>\n",
       "    <tr>\n",
       "      <th>0</th>\n",
       "      <td>1</td>\n",
       "      <td>United States of America</td>\n",
       "      <td>39</td>\n",
       "      <td>41</td>\n",
       "      <td>33</td>\n",
       "      <td>113</td>\n",
       "      <td>1</td>\n",
       "      <td>NaN</td>\n",
       "      <td>NaN</td>\n",
       "    </tr>\n",
       "    <tr>\n",
       "      <th>1</th>\n",
       "      <td>2</td>\n",
       "      <td>People's Republic of China</td>\n",
       "      <td>38</td>\n",
       "      <td>32</td>\n",
       "      <td>18</td>\n",
       "      <td>88</td>\n",
       "      <td>2</td>\n",
       "      <td>NaN</td>\n",
       "      <td>NaN</td>\n",
       "    </tr>\n",
       "    <tr>\n",
       "      <th>2</th>\n",
       "      <td>3</td>\n",
       "      <td>Japan</td>\n",
       "      <td>27</td>\n",
       "      <td>14</td>\n",
       "      <td>17</td>\n",
       "      <td>58</td>\n",
       "      <td>5</td>\n",
       "      <td>NaN</td>\n",
       "      <td>NaN</td>\n",
       "    </tr>\n",
       "    <tr>\n",
       "      <th>3</th>\n",
       "      <td>4</td>\n",
       "      <td>Great Britain</td>\n",
       "      <td>22</td>\n",
       "      <td>21</td>\n",
       "      <td>22</td>\n",
       "      <td>65</td>\n",
       "      <td>4</td>\n",
       "      <td>NaN</td>\n",
       "      <td>NaN</td>\n",
       "    </tr>\n",
       "    <tr>\n",
       "      <th>4</th>\n",
       "      <td>5</td>\n",
       "      <td>ROC</td>\n",
       "      <td>20</td>\n",
       "      <td>28</td>\n",
       "      <td>23</td>\n",
       "      <td>71</td>\n",
       "      <td>3</td>\n",
       "      <td>NaN</td>\n",
       "      <td>NaN</td>\n",
       "    </tr>\n",
       "    <tr>\n",
       "      <th>...</th>\n",
       "      <td>...</td>\n",
       "      <td>...</td>\n",
       "      <td>...</td>\n",
       "      <td>...</td>\n",
       "      <td>...</td>\n",
       "      <td>...</td>\n",
       "      <td>...</td>\n",
       "      <td>...</td>\n",
       "      <td>...</td>\n",
       "    </tr>\n",
       "    <tr>\n",
       "      <th>88</th>\n",
       "      <td>86</td>\n",
       "      <td>Ghana</td>\n",
       "      <td>0</td>\n",
       "      <td>0</td>\n",
       "      <td>1</td>\n",
       "      <td>1</td>\n",
       "      <td>77</td>\n",
       "      <td>NaN</td>\n",
       "      <td>NaN</td>\n",
       "    </tr>\n",
       "    <tr>\n",
       "      <th>89</th>\n",
       "      <td>86</td>\n",
       "      <td>Grenada</td>\n",
       "      <td>0</td>\n",
       "      <td>0</td>\n",
       "      <td>1</td>\n",
       "      <td>1</td>\n",
       "      <td>77</td>\n",
       "      <td>NaN</td>\n",
       "      <td>NaN</td>\n",
       "    </tr>\n",
       "    <tr>\n",
       "      <th>90</th>\n",
       "      <td>86</td>\n",
       "      <td>Kuwait</td>\n",
       "      <td>0</td>\n",
       "      <td>0</td>\n",
       "      <td>1</td>\n",
       "      <td>1</td>\n",
       "      <td>77</td>\n",
       "      <td>NaN</td>\n",
       "      <td>NaN</td>\n",
       "    </tr>\n",
       "    <tr>\n",
       "      <th>91</th>\n",
       "      <td>86</td>\n",
       "      <td>Republic of Moldova</td>\n",
       "      <td>0</td>\n",
       "      <td>0</td>\n",
       "      <td>1</td>\n",
       "      <td>1</td>\n",
       "      <td>77</td>\n",
       "      <td>NaN</td>\n",
       "      <td>NaN</td>\n",
       "    </tr>\n",
       "    <tr>\n",
       "      <th>92</th>\n",
       "      <td>86</td>\n",
       "      <td>Syrian Arab Republic</td>\n",
       "      <td>0</td>\n",
       "      <td>0</td>\n",
       "      <td>1</td>\n",
       "      <td>1</td>\n",
       "      <td>77</td>\n",
       "      <td>NaN</td>\n",
       "      <td>NaN</td>\n",
       "    </tr>\n",
       "  </tbody>\n",
       "</table>\n",
       "<p>93 rows × 9 columns</p>\n",
       "</div>"
      ],
      "text/plain": [
       "    Rank                    Team/NOC  Gold  Silver  Bronze  Total  \\\n",
       "0      1    United States of America    39      41      33    113   \n",
       "1      2  People's Republic of China    38      32      18     88   \n",
       "2      3                       Japan    27      14      17     58   \n",
       "3      4               Great Britain    22      21      22     65   \n",
       "4      5                         ROC    20      28      23     71   \n",
       "..   ...                         ...   ...     ...     ...    ...   \n",
       "88    86                       Ghana     0       0       1      1   \n",
       "89    86                     Grenada     0       0       1      1   \n",
       "90    86                      Kuwait     0       0       1      1   \n",
       "91    86         Republic of Moldova     0       0       1      1   \n",
       "92    86        Syrian Arab Republic     0       0       1      1   \n",
       "\n",
       "    Rank by Total  Unnamed: 7  Unnamed: 8  \n",
       "0               1         NaN         NaN  \n",
       "1               2         NaN         NaN  \n",
       "2               5         NaN         NaN  \n",
       "3               4         NaN         NaN  \n",
       "4               3         NaN         NaN  \n",
       "..            ...         ...         ...  \n",
       "88             77         NaN         NaN  \n",
       "89             77         NaN         NaN  \n",
       "90             77         NaN         NaN  \n",
       "91             77         NaN         NaN  \n",
       "92             77         NaN         NaN  \n",
       "\n",
       "[93 rows x 9 columns]"
      ]
     },
     "execution_count": 70,
     "metadata": {},
     "output_type": "execute_result"
    }
   ],
   "source": [
    "df_medals"
   ]
  },
  {
   "cell_type": "code",
   "execution_count": 86,
   "metadata": {},
   "outputs": [
    {
     "name": "stdout",
     "output_type": "stream",
     "text": [
      "7 1080\n"
     ]
    }
   ],
   "source": [
    "medals_india = df_medals[df_medals['Team/NOC']=='India']['Total'].sum()\n",
    "medals_all = df_medals['Total'].sum()\n",
    "print(medals_india, medals_all)"
   ]
  },
  {
   "cell_type": "code",
   "execution_count": 87,
   "metadata": {},
   "outputs": [
    {
     "data": {
      "image/png": "[encoded data removed]",
      "text/plain": [
       "<Figure size 432x288 with 1 Axes>"
      ]
     },
     "metadata": {},
     "output_type": "display_data"
    }
   ],
   "source": [
    "venn2(  subsets=(medals_all-medals_india, 0, medals_india), \n",
    "        set_labels=('All', 'India'), set_colors=(\"orange\",\"blue\"),alpha=0.7)\n",
    "\n",
    "plt.show()"
   ]
  },
  {
   "cell_type": "code",
   "execution_count": 107,
   "metadata": {},
   "outputs": [
    {
     "name": "stdout",
     "output_type": "stream",
     "text": [
      "['Belgium', \"People's Republic of China\", 'France', 'Italy', 'Japan', 'Latvia', 'Mongolia', 'Netherlands', 'Poland', 'ROC', 'Romania', 'Serbia', 'United States of America', 'Australia', 'Bangladesh', 'Belarus', 'Brazil', 'Canada', 'Chinese Taipei', 'Colombia', 'Egypt', 'Germany', 'Great Britain', 'India', 'Indonesia', 'Kazakhstan', 'Malaysia', 'Mexico', 'Republic of Moldova', 'Republic of Korea', 'Spain', 'Tunisia', 'Turkey', 'Ukraine', 'Vietnam', 'Switzerland', 'Austria', 'Greece', 'Israel', 'Liechtenstein', 'South Africa', 'Bahamas', 'Botswana', 'Cuba', 'Czech Republic', 'Denmark', 'Dominican Republic', 'Ecuador', 'Ghana', 'Ireland', 'Jamaica', 'Nigeria', 'Trinidad and Tobago', 'Argentina', 'Islamic Republic of Iran', 'Puerto Rico', 'Slovenia', 'Chile', 'Kenya', 'Morocco', 'Norway', 'Qatar', 'Hong Kong, China', 'Lithuania', 'New Zealand', 'Estonia', 'Hungary', \"Côte d'Ivoire\", 'Honduras', 'Saudi Arabia', 'Sweden', 'Zambia', 'Angola', 'Bahrain', 'Montenegro', 'Portugal', 'Azerbaijan', 'Bulgaria', 'Uzbekistan', 'Fiji', 'Croatia', 'Singapore', 'Slovakia', 'Venezuela']\n"
     ]
    }
   ],
   "source": [
    "noc_total = df_teams['NOC'].unique().tolist()\n",
    "print(noc_total)"
   ]
  },
  {
   "cell_type": "code",
   "execution_count": 108,
   "metadata": {},
   "outputs": [
    {
     "name": "stdout",
     "output_type": "stream",
     "text": [
      "['Belgium', 'China', 'France', 'Italy', 'Japan', 'Latvia', 'Mongolia', 'Netherlands', 'Poland', 'ROC', 'Romania', 'Serbia', 'United States', 'Australia', 'Bangladesh', 'Belarus', 'Brazil', 'Canada', 'Chinese Taipei', 'Colombia', 'Egypt', 'Germany', 'Great Britain', 'India', 'Indonesia', 'Kazakhstan', 'Malaysia', 'Mexico', 'Rep. of Moldova', 'Republic of Korea', 'Spain', 'Tunisia', 'Turkey', 'Ukraine', 'Vietnam', 'Korea', 'Switzerland', 'Austria', 'Greece', 'Israel', 'Liechtenstein', 'South Africa', 'Bahamas', 'Botswana', 'Cuba', 'Czech Republic', 'Denmark', 'Dominican Rep.', 'Ecuador', 'Ghana', 'Ireland', 'Jamaica', 'Nigeria', 'Trinidad & Tobago', 'Argentina', 'Islamic Rep. of Iran', 'Puerto Rico', 'Slovenia', 'Azaad/Capogrosso', 'Gallay/Pereyra', 'McHugh/Schumann', 'Artacho Del Solar/Clancy', 'Alison/Alvaro Filho', 'Evandro/Bruno Schmidt', 'Ana Patricia/Rebecca', 'Agatha/Duda', 'Bansley/Brandie', 'Pavan/Melissa', 'Grimalt M./Grimalt E.', 'Wang/X.Y.Xia', 'Xue/Wang X.X.', 'Lidy/Leila', 'Perusic/Schweiner', 'Hermannova/Slukova', 'Thole J./Wickler', 'Ludwig/Kozuch', 'Sude/Borger', 'Nicolai/Lupo', 'Carambula/Rossi', 'Menegatti/Orsi Toth', 'Gottsu/Shiratori', 'Ishii/Murakami', 'Makokha/Khadambi', 'Plavins/Tocs', 'Graudina/Kravcenoka', 'Gaxiola/Rubio', 'Abicha/Elgraoui', 'Brouwer/Meeuwsen', 'Keizer/Meppelink', 'Stam/Schoon', 'Mol A./Sorum C.', 'Bryl/Fijalek', 'Kantor/Losiak', 'Cherif/Ahmed', 'Krasilnikov/Stoyanovskiy', 'Leshukov/Semenov', 'Makroguzova/Kholomina', 'Herrera/Gavira', 'Liliana/Elsa', 'Heidrich/Gerson', 'Huberli/Betschart', 'Verge-Depre, A./Heidrich', 'Gibb/Bourne', 'Lucena/Dalhausser', 'April/Alix', 'Claes/Sponcil', 'Hong Kong, China', 'Lithuania', 'New Zealand', 'Estonia', 'Hungary', 'Chile', 'Côte d’Ivoire', 'Honduras', 'Saudi Arabia', 'Sweden', 'Zambia', 'Angola', 'Bahrain', 'Montenegro', 'Norway', 'Portugal', 'Azerbaijan', 'Bulgaria', 'Uzbekistan', 'Fiji', 'Kenya', 'HU Heming / TAPPER Melissa', 'FEGERL Stefan / POLCANOVA Sofia', 'WANG Zhen / ZHANG Mo', 'XU Xin / LIU Shiwen', 'LIN Yun Ju / CHENG I Ching', 'Croatia', 'CAMPOS Jorge / FONSECA Daniela', 'ASSAR Omar / MESHREF Dina', 'LEBESSON Emmanuel / YUAN Jia Nan', 'FRANZISKA Patrick / SOLJA Petrissa', 'WONG Chun Ting / DOO Hoi Kem', 'SZUDI Adam / PERGEL Szandra', 'ACHANTA Kamal / BATRA Manika', 'MIZUTANI Jun / ITO Mima', 'LEE Sangsu / JEON Jihee', 'IONESCU Ovidiu / SZOCS Bernadette', 'Singapore', 'PISTEJ Lubomir / BALAZOVA Barbora', 'Venezuela']\n"
     ]
    }
   ],
   "source": [
    "teams_total = df_teams['Name'].unique().tolist()\n",
    "print(teams_total)"
   ]
  },
  {
   "cell_type": "code",
   "execution_count": 111,
   "metadata": {},
   "outputs": [
    {
     "name": "stdout",
     "output_type": "stream",
     "text": [
      "{'Evandro/Bruno Schmidt', 'XU Xin / LIU Shiwen', 'Menegatti/Orsi Toth', 'Stam/Schoon', 'Brouwer/Meeuwsen', 'Krasilnikov/Stoyanovskiy', 'Cherif/Ahmed', 'ACHANTA Kamal / BATRA Manika', 'Xue/Wang X.X.', 'Abicha/Elgraoui', 'McHugh/Schumann', 'Thole J./Wickler', 'Gallay/Pereyra', 'Alison/Alvaro Filho', 'Kantor/Losiak', 'Trinidad & Tobago', 'Mol A./Sorum C.', 'Huberli/Betschart', 'ASSAR Omar / MESHREF Dina', 'Grimalt M./Grimalt E.', 'IONESCU Ovidiu / SZOCS Bernadette', 'Leshukov/Semenov', 'WANG Zhen / ZHANG Mo', 'Keizer/Meppelink', 'Artacho Del Solar/Clancy', 'FEGERL Stefan / POLCANOVA Sofia', 'Ishii/Murakami', 'Côte d’Ivoire', 'PISTEJ Lubomir / BALAZOVA Barbora', 'China', 'Rep. of Moldova', 'Hermannova/Slukova', 'CAMPOS Jorge / FONSECA Daniela', 'Korea', 'LIN Yun Ju / CHENG I Ching', 'Makroguzova/Kholomina', 'Gibb/Bourne', 'LEE Sangsu / JEON Jihee', 'Ana Patricia/Rebecca', 'Graudina/Kravcenoka', 'Ludwig/Kozuch', 'Lidy/Leila', 'April/Alix', 'Carambula/Rossi', 'Bryl/Fijalek', 'Gottsu/Shiratori', 'Gaxiola/Rubio', 'Pavan/Melissa', 'HU Heming / TAPPER Melissa', 'Heidrich/Gerson', 'Dominican Rep.', 'Azaad/Capogrosso', 'LEBESSON Emmanuel / YUAN Jia Nan', 'SZUDI Adam / PERGEL Szandra', 'Islamic Rep. of Iran', 'Agatha/Duda', 'Wang/X.Y.Xia', 'WONG Chun Ting / DOO Hoi Kem', 'Verge-Depre, A./Heidrich', 'Lucena/Dalhausser', 'Herrera/Gavira', 'Makokha/Khadambi', 'Nicolai/Lupo', 'Plavins/Tocs', 'MIZUTANI Jun / ITO Mima', 'Perusic/Schweiner', 'Sude/Borger', 'FRANZISKA Patrick / SOLJA Petrissa', 'Bansley/Brandie', 'Claes/Sponcil', 'Liliana/Elsa', 'United States'}\n"
     ]
    }
   ],
   "source": [
    "print(set(teams_total)- set(noc_total))"
   ]
  },
  {
   "cell_type": "code",
   "execution_count": 103,
   "metadata": {},
   "outputs": [
    {
     "name": "stdout",
     "output_type": "stream",
     "text": [
      "{'Chile', 'Honduras', 'Montenegro', 'Vietnam', 'Singapore', 'Angola', 'Bangladesh', 'Trinidad and Tobago', 'Zambia', 'Liechtenstein'}\n",
      "{'Philippines', 'Syrian Arab Republic', 'Ethiopia', 'Bermuda', 'Kyrgyzstan', 'Kosovo', 'Thailand', 'Burkina Faso', 'San Marino', 'Grenada', 'Uganda', 'Turkmenistan', 'Georgia', 'Jordan', 'Finland', 'Kuwait', 'Namibia', 'Armenia', 'North Macedonia'}\n"
     ]
    }
   ],
   "source": [
    "teams_total = df_teams['NOC'].unique().tolist()#.shape[0]\n",
    "teams_with_medals = df_medals['Team/NOC'].unique().tolist()#.shape[0]\n",
    "print(set(teams_total) - set(teams_with_medals))\n",
    "print(set(teams_with_medals) - set(teams_total))"
   ]
  },
  {
   "cell_type": "code",
   "execution_count": 114,
   "metadata": {},
   "outputs": [
    {
     "data": {
      "text/plain": [
       "(1080, 340, 338, 402)"
      ]
     },
     "execution_count": 114,
     "metadata": {},
     "output_type": "execute_result"
    }
   ],
   "source": [
    "df_medals['Total'].sum(), df_medals['Gold'].sum(), df_medals['Silver'].sum(), df_medals['Bronze'].sum()"
   ]
  },
  {
   "cell_type": "code",
   "execution_count": 123,
   "metadata": {},
   "outputs": [
    {
     "name": "stdout",
     "output_type": "stream",
     "text": [
      "['United States of America', \"People's Republic of China\", 'Japan', 'Great Britain', 'ROC', 'Australia', 'Netherlands', 'France', 'Germany', 'Italy', 'Canada', 'Brazil', 'New Zealand', 'Cuba', 'Hungary', 'Republic of Korea', 'Poland', 'Czech Republic', 'Kenya', 'Norway', 'Jamaica', 'Spain', 'Sweden', 'Switzerland', 'Denmark', 'Croatia', 'Islamic Republic of Iran', 'Serbia', 'Belgium', 'Bulgaria', 'Slovenia', 'Uzbekistan', 'Georgia', 'Chinese Taipei', 'Turkey', 'Greece', 'Uganda', 'Ecuador', 'Ireland', 'Israel', 'Qatar', 'Bahamas', 'Kosovo', 'Ukraine', 'Belarus', 'Romania', 'Venezuela', 'India', 'Hong Kong, China', 'Philippines', 'Slovakia', 'South Africa', 'Austria', 'Egypt', 'Indonesia', 'Ethiopia', 'Portugal', 'Tunisia', 'Estonia', 'Fiji', 'Latvia', 'Thailand', 'Bermuda', 'Morocco', 'Puerto Rico', 'Colombia', 'Azerbaijan', 'Dominican Republic', 'Armenia', 'Kyrgyzstan', 'Mongolia', 'Argentina', 'San Marino', 'Jordan', 'Malaysia', 'Nigeria', 'Bahrain', 'Saudi Arabia', 'Lithuania', 'North Macedonia', 'Namibia', 'Turkmenistan', 'Kazakhstan', 'Mexico', 'Finland', 'Botswana', 'Burkina Faso', \"Côte d'Ivoire\", 'Ghana', 'Grenada', 'Kuwait', 'Republic of Moldova', 'Syrian Arab Republic']\n"
     ]
    }
   ],
   "source": [
    "teams_with_medals = df_medals['Team/NOC'].unique().tolist()#.shape[0]\n",
    "print(teams_with_medals)"
   ]
  },
  {
   "cell_type": "code",
   "execution_count": 124,
   "metadata": {},
   "outputs": [
    {
     "ename": "TypeError",
     "evalue": "Cannot broadcast np.ndarray with operand of type <class 'method'>",
     "output_type": "error",
     "traceback": [
      "\u001b[0;31m---------------------------------------------------------------------------\u001b[0m",
      "\u001b[0;31mTypeError\u001b[0m                                 Traceback (most recent call last)",
      "\u001b[0;32m~/sree/projects/olympics2021/venv/lib/python3.9/site-packages/pandas/core/ops/array_ops.py\u001b[0m in \u001b[0;36m_na_arithmetic_op\u001b[0;34m(left, right, op, is_cmp)\u001b[0m\n\u001b[1;32m    165\u001b[0m     \u001b[0;32mtry\u001b[0m\u001b[0;34m:\u001b[0m\u001b[0;34m\u001b[0m\u001b[0;34m\u001b[0m\u001b[0m\n\u001b[0;32m--> 166\u001b[0;31m         \u001b[0mresult\u001b[0m \u001b[0;34m=\u001b[0m \u001b[0mfunc\u001b[0m\u001b[0;34m(\u001b[0m\u001b[0mleft\u001b[0m\u001b[0;34m,\u001b[0m \u001b[0mright\u001b[0m\u001b[0;34m)\u001b[0m\u001b[0;34m\u001b[0m\u001b[0;34m\u001b[0m\u001b[0m\n\u001b[0m\u001b[1;32m    167\u001b[0m     \u001b[0;32mexcept\u001b[0m \u001b[0mTypeError\u001b[0m\u001b[0;34m:\u001b[0m\u001b[0;34m\u001b[0m\u001b[0;34m\u001b[0m\u001b[0m\n",
      "\u001b[0;32m~/sree/projects/olympics2021/venv/lib/python3.9/site-packages/pandas/core/computation/expressions.py\u001b[0m in \u001b[0;36mevaluate\u001b[0;34m(op, a, b, use_numexpr)\u001b[0m\n\u001b[1;32m    238\u001b[0m             \u001b[0;31m# error: \"None\" not callable\u001b[0m\u001b[0;34m\u001b[0m\u001b[0;34m\u001b[0m\u001b[0;34m\u001b[0m\u001b[0m\n\u001b[0;32m--> 239\u001b[0;31m             \u001b[0;32mreturn\u001b[0m \u001b[0m_evaluate\u001b[0m\u001b[0;34m(\u001b[0m\u001b[0mop\u001b[0m\u001b[0;34m,\u001b[0m \u001b[0mop_str\u001b[0m\u001b[0;34m,\u001b[0m \u001b[0ma\u001b[0m\u001b[0;34m,\u001b[0m \u001b[0mb\u001b[0m\u001b[0;34m)\u001b[0m  \u001b[0;31m# type: ignore[misc]\u001b[0m\u001b[0;34m\u001b[0m\u001b[0;34m\u001b[0m\u001b[0m\n\u001b[0m\u001b[1;32m    240\u001b[0m     \u001b[0;32mreturn\u001b[0m \u001b[0m_evaluate_standard\u001b[0m\u001b[0;34m(\u001b[0m\u001b[0mop\u001b[0m\u001b[0;34m,\u001b[0m \u001b[0mop_str\u001b[0m\u001b[0;34m,\u001b[0m \u001b[0ma\u001b[0m\u001b[0;34m,\u001b[0m \u001b[0mb\u001b[0m\u001b[0;34m)\u001b[0m\u001b[0;34m\u001b[0m\u001b[0;34m\u001b[0m\u001b[0m\n",
      "\u001b[0;32m~/sree/projects/olympics2021/venv/lib/python3.9/site-packages/pandas/core/computation/expressions.py\u001b[0m in \u001b[0;36m_evaluate_standard\u001b[0;34m(op, op_str, a, b)\u001b[0m\n\u001b[1;32m     68\u001b[0m         \u001b[0m_store_test_result\u001b[0m\u001b[0;34m(\u001b[0m\u001b[0;32mFalse\u001b[0m\u001b[0;34m)\u001b[0m\u001b[0;34m\u001b[0m\u001b[0;34m\u001b[0m\u001b[0m\n\u001b[0;32m---> 69\u001b[0;31m     \u001b[0;32mreturn\u001b[0m \u001b[0mop\u001b[0m\u001b[0;34m(\u001b[0m\u001b[0ma\u001b[0m\u001b[0;34m,\u001b[0m \u001b[0mb\u001b[0m\u001b[0;34m)\u001b[0m\u001b[0;34m\u001b[0m\u001b[0;34m\u001b[0m\u001b[0m\n\u001b[0m\u001b[1;32m     70\u001b[0m \u001b[0;34m\u001b[0m\u001b[0m\n",
      "\u001b[0;31mTypeError\u001b[0m: unsupported operand type(s) for -: 'str' and 'method'",
      "\nDuring handling of the above exception, another exception occurred:\n",
      "\u001b[0;31mTypeError\u001b[0m                                 Traceback (most recent call last)",
      "\u001b[0;32m/var/folders/6d/t1t1r89n1q95d2ztv2qstyb40000gr/T/ipykernel_24338/2912978559.py\u001b[0m in \u001b[0;36m<module>\u001b[0;34m\u001b[0m\n\u001b[0;32m----> 1\u001b[0;31m venn3(  subsets=(medals_all-medals_india, 0, medals_india, len(disciplines-disciplines_india), 0, len(disciplines_india)), \n\u001b[0m\u001b[1;32m      2\u001b[0m         set_labels=('Medals', 'Disciplines', 'India'), set_colors=(\"orange\",\"blue\",\"green\"),alpha=0.7)\n\u001b[1;32m      3\u001b[0m \u001b[0;34m\u001b[0m\u001b[0m\n\u001b[1;32m      4\u001b[0m \u001b[0mplt\u001b[0m\u001b[0;34m.\u001b[0m\u001b[0mshow\u001b[0m\u001b[0;34m(\u001b[0m\u001b[0;34m)\u001b[0m\u001b[0;34m\u001b[0m\u001b[0;34m\u001b[0m\u001b[0m\n",
      "\u001b[0;32m~/sree/projects/olympics2021/venv/lib/python3.9/site-packages/pandas/core/ops/common.py\u001b[0m in \u001b[0;36mnew_method\u001b[0;34m(self, other)\u001b[0m\n\u001b[1;32m     67\u001b[0m         \u001b[0mother\u001b[0m \u001b[0;34m=\u001b[0m \u001b[0mitem_from_zerodim\u001b[0m\u001b[0;34m(\u001b[0m\u001b[0mother\u001b[0m\u001b[0;34m)\u001b[0m\u001b[0;34m\u001b[0m\u001b[0;34m\u001b[0m\u001b[0m\n\u001b[1;32m     68\u001b[0m \u001b[0;34m\u001b[0m\u001b[0m\n\u001b[0;32m---> 69\u001b[0;31m         \u001b[0;32mreturn\u001b[0m \u001b[0mmethod\u001b[0m\u001b[0;34m(\u001b[0m\u001b[0mself\u001b[0m\u001b[0;34m,\u001b[0m \u001b[0mother\u001b[0m\u001b[0;34m)\u001b[0m\u001b[0;34m\u001b[0m\u001b[0;34m\u001b[0m\u001b[0m\n\u001b[0m\u001b[1;32m     70\u001b[0m \u001b[0;34m\u001b[0m\u001b[0m\n\u001b[1;32m     71\u001b[0m     \u001b[0;32mreturn\u001b[0m \u001b[0mnew_method\u001b[0m\u001b[0;34m\u001b[0m\u001b[0;34m\u001b[0m\u001b[0m\n",
      "\u001b[0;32m~/sree/projects/olympics2021/venv/lib/python3.9/site-packages/pandas/core/arraylike.py\u001b[0m in \u001b[0;36m__sub__\u001b[0;34m(self, other)\u001b[0m\n\u001b[1;32m     98\u001b[0m     \u001b[0;34m@\u001b[0m\u001b[0munpack_zerodim_and_defer\u001b[0m\u001b[0;34m(\u001b[0m\u001b[0;34m\"__sub__\"\u001b[0m\u001b[0;34m)\u001b[0m\u001b[0;34m\u001b[0m\u001b[0;34m\u001b[0m\u001b[0m\n\u001b[1;32m     99\u001b[0m     \u001b[0;32mdef\u001b[0m \u001b[0m__sub__\u001b[0m\u001b[0;34m(\u001b[0m\u001b[0mself\u001b[0m\u001b[0;34m,\u001b[0m \u001b[0mother\u001b[0m\u001b[0;34m)\u001b[0m\u001b[0;34m:\u001b[0m\u001b[0;34m\u001b[0m\u001b[0;34m\u001b[0m\u001b[0m\n\u001b[0;32m--> 100\u001b[0;31m         \u001b[0;32mreturn\u001b[0m \u001b[0mself\u001b[0m\u001b[0;34m.\u001b[0m\u001b[0m_arith_method\u001b[0m\u001b[0;34m(\u001b[0m\u001b[0mother\u001b[0m\u001b[0;34m,\u001b[0m \u001b[0moperator\u001b[0m\u001b[0;34m.\u001b[0m\u001b[0msub\u001b[0m\u001b[0;34m)\u001b[0m\u001b[0;34m\u001b[0m\u001b[0;34m\u001b[0m\u001b[0m\n\u001b[0m\u001b[1;32m    101\u001b[0m \u001b[0;34m\u001b[0m\u001b[0m\n\u001b[1;32m    102\u001b[0m     \u001b[0;34m@\u001b[0m\u001b[0munpack_zerodim_and_defer\u001b[0m\u001b[0;34m(\u001b[0m\u001b[0;34m\"__rsub__\"\u001b[0m\u001b[0;34m)\u001b[0m\u001b[0;34m\u001b[0m\u001b[0;34m\u001b[0m\u001b[0m\n",
      "\u001b[0;32m~/sree/projects/olympics2021/venv/lib/python3.9/site-packages/pandas/core/series.py\u001b[0m in \u001b[0;36m_arith_method\u001b[0;34m(self, other, op)\u001b[0m\n\u001b[1;32m   5524\u001b[0m \u001b[0;34m\u001b[0m\u001b[0m\n\u001b[1;32m   5525\u001b[0m         \u001b[0;32mwith\u001b[0m \u001b[0mnp\u001b[0m\u001b[0;34m.\u001b[0m\u001b[0merrstate\u001b[0m\u001b[0;34m(\u001b[0m\u001b[0mall\u001b[0m\u001b[0;34m=\u001b[0m\u001b[0;34m\"ignore\"\u001b[0m\u001b[0;34m)\u001b[0m\u001b[0;34m:\u001b[0m\u001b[0;34m\u001b[0m\u001b[0;34m\u001b[0m\u001b[0m\n\u001b[0;32m-> 5526\u001b[0;31m             \u001b[0mresult\u001b[0m \u001b[0;34m=\u001b[0m \u001b[0mops\u001b[0m\u001b[0;34m.\u001b[0m\u001b[0marithmetic_op\u001b[0m\u001b[0;34m(\u001b[0m\u001b[0mlvalues\u001b[0m\u001b[0;34m,\u001b[0m \u001b[0mrvalues\u001b[0m\u001b[0;34m,\u001b[0m \u001b[0mop\u001b[0m\u001b[0;34m)\u001b[0m\u001b[0;34m\u001b[0m\u001b[0;34m\u001b[0m\u001b[0m\n\u001b[0m\u001b[1;32m   5527\u001b[0m \u001b[0;34m\u001b[0m\u001b[0m\n\u001b[1;32m   5528\u001b[0m         \u001b[0;32mreturn\u001b[0m \u001b[0mself\u001b[0m\u001b[0;34m.\u001b[0m\u001b[0m_construct_result\u001b[0m\u001b[0;34m(\u001b[0m\u001b[0mresult\u001b[0m\u001b[0;34m,\u001b[0m \u001b[0mname\u001b[0m\u001b[0;34m=\u001b[0m\u001b[0mres_name\u001b[0m\u001b[0;34m)\u001b[0m\u001b[0;34m\u001b[0m\u001b[0;34m\u001b[0m\u001b[0m\n",
      "\u001b[0;32m~/sree/projects/olympics2021/venv/lib/python3.9/site-packages/pandas/core/ops/array_ops.py\u001b[0m in \u001b[0;36marithmetic_op\u001b[0;34m(left, right, op)\u001b[0m\n\u001b[1;32m    222\u001b[0m         \u001b[0m_bool_arith_check\u001b[0m\u001b[0;34m(\u001b[0m\u001b[0mop\u001b[0m\u001b[0;34m,\u001b[0m \u001b[0mleft\u001b[0m\u001b[0;34m,\u001b[0m \u001b[0mright\u001b[0m\u001b[0;34m)\u001b[0m\u001b[0;34m\u001b[0m\u001b[0;34m\u001b[0m\u001b[0m\n\u001b[1;32m    223\u001b[0m \u001b[0;34m\u001b[0m\u001b[0m\n\u001b[0;32m--> 224\u001b[0;31m         \u001b[0mres_values\u001b[0m \u001b[0;34m=\u001b[0m \u001b[0m_na_arithmetic_op\u001b[0m\u001b[0;34m(\u001b[0m\u001b[0mleft\u001b[0m\u001b[0;34m,\u001b[0m \u001b[0mright\u001b[0m\u001b[0;34m,\u001b[0m \u001b[0mop\u001b[0m\u001b[0;34m)\u001b[0m\u001b[0;34m\u001b[0m\u001b[0;34m\u001b[0m\u001b[0m\n\u001b[0m\u001b[1;32m    225\u001b[0m \u001b[0;34m\u001b[0m\u001b[0m\n\u001b[1;32m    226\u001b[0m     \u001b[0;32mreturn\u001b[0m \u001b[0mres_values\u001b[0m\u001b[0;34m\u001b[0m\u001b[0;34m\u001b[0m\u001b[0m\n",
      "\u001b[0;32m~/sree/projects/olympics2021/venv/lib/python3.9/site-packages/pandas/core/ops/array_ops.py\u001b[0m in \u001b[0;36m_na_arithmetic_op\u001b[0;34m(left, right, op, is_cmp)\u001b[0m\n\u001b[1;32m    171\u001b[0m             \u001b[0;31m# Don't do this for comparisons, as that will handle complex numbers\u001b[0m\u001b[0;34m\u001b[0m\u001b[0;34m\u001b[0m\u001b[0;34m\u001b[0m\u001b[0m\n\u001b[1;32m    172\u001b[0m             \u001b[0;31m#  incorrectly, see GH#32047\u001b[0m\u001b[0;34m\u001b[0m\u001b[0;34m\u001b[0m\u001b[0;34m\u001b[0m\u001b[0m\n\u001b[0;32m--> 173\u001b[0;31m             \u001b[0mresult\u001b[0m \u001b[0;34m=\u001b[0m \u001b[0m_masked_arith_op\u001b[0m\u001b[0;34m(\u001b[0m\u001b[0mleft\u001b[0m\u001b[0;34m,\u001b[0m \u001b[0mright\u001b[0m\u001b[0;34m,\u001b[0m \u001b[0mop\u001b[0m\u001b[0;34m)\u001b[0m\u001b[0;34m\u001b[0m\u001b[0;34m\u001b[0m\u001b[0m\n\u001b[0m\u001b[1;32m    174\u001b[0m         \u001b[0;32melse\u001b[0m\u001b[0;34m:\u001b[0m\u001b[0;34m\u001b[0m\u001b[0;34m\u001b[0m\u001b[0m\n\u001b[1;32m    175\u001b[0m             \u001b[0;32mraise\u001b[0m\u001b[0;34m\u001b[0m\u001b[0;34m\u001b[0m\u001b[0m\n",
      "\u001b[0;32m~/sree/projects/olympics2021/venv/lib/python3.9/site-packages/pandas/core/ops/array_ops.py\u001b[0m in \u001b[0;36m_masked_arith_op\u001b[0;34m(x, y, op)\u001b[0m\n\u001b[1;32m    114\u001b[0m     \u001b[0;32melse\u001b[0m\u001b[0;34m:\u001b[0m\u001b[0;34m\u001b[0m\u001b[0;34m\u001b[0m\u001b[0m\n\u001b[1;32m    115\u001b[0m         \u001b[0;32mif\u001b[0m \u001b[0;32mnot\u001b[0m \u001b[0mis_scalar\u001b[0m\u001b[0;34m(\u001b[0m\u001b[0my\u001b[0m\u001b[0;34m)\u001b[0m\u001b[0;34m:\u001b[0m\u001b[0;34m\u001b[0m\u001b[0;34m\u001b[0m\u001b[0m\n\u001b[0;32m--> 116\u001b[0;31m             raise TypeError(\n\u001b[0m\u001b[1;32m    117\u001b[0m                 \u001b[0;34mf\"Cannot broadcast np.ndarray with operand of type { type(y) }\"\u001b[0m\u001b[0;34m\u001b[0m\u001b[0;34m\u001b[0m\u001b[0m\n\u001b[1;32m    118\u001b[0m             )\n",
      "\u001b[0;31mTypeError\u001b[0m: Cannot broadcast np.ndarray with operand of type <class 'method'>"
     ]
    }
   ],
   "source": [
    "venn3(  subsets=(medals_all-medals_india, 0, medals_india, len(disciplines-disciplines_india), 0, len(disciplines_india)), \n",
    "        set_labels=('Medals', 'Disciplines', 'India'), set_colors=(\"orange\",\"blue\",\"green\"),alpha=0.7)\n",
    "\n",
    "plt.show()"
   ]
  }
 ],
 "metadata": {
  "interpreter": {
   "hash": "8f5cca18c9799494215a7356eee331d41ed62dc1329ea9a38d9c7a02923b99ef"
  },
  "kernelspec": {
   "display_name": "Python 3.9.1 64-bit ('venv': venv)",
   "language": "python",
   "name": "python3"
  },
  "language_info": {
   "codemirror_mode": {
    "name": "ipython",
    "version": 3
   },
   "file_extension": ".py",
   "mimetype": "text/x-python",
   "name": "python",
   "nbconvert_exporter": "python",
   "pygments_lexer": "ipython3",
   "version": "3.9.1"
  },
  "orig_nbformat": 4
 },
 "nbformat": 4,
 "nbformat_minor": 2
}
