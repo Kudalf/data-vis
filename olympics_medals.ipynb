{
 "cells": [
  {
   "cell_type": "markdown",
   "metadata": {},
   "source": [
    "# Visualise Olympics 2021 medal data "
   ]
  },
  {
   "cell_type": "code",
   "execution_count": 77,
   "metadata": {},
   "outputs": [],
   "source": [
    "import pandas as pd\n",
    "import matplotlib.pyplot as plt\n",
    "import plotly.graph_objects as go\n",
    "import geopandas as gpd\n",
    "\n",
    "import warnings\n",
    "warnings.simplefilter(\"ignore\")"
   ]
  },
  {
   "cell_type": "code",
   "execution_count": 117,
   "metadata": {},
   "outputs": [],
   "source": [
    "def annotate(ax, title):\n",
    "    for p in ax.patches:\n",
    "        ax.annotate(format(p.get_height(), '.0f'), \n",
    "                    (p.get_x() + p.get_width()/2, p.get_y() + p.get_height()/2), \n",
    "                    ha = 'center', va = 'center', \n",
    "                    xytext = (0, 9), \n",
    "                    textcoords = 'offset points')\n",
    "                    \n",
    "        ax.set_title(title)"
   ]
  },
  {
   "cell_type": "markdown",
   "metadata": {},
   "source": [
    "## Read and process the dataset\n",
    "Let's use the [Olympics 2021](https://www.kaggle.com/arjunprasadsarkhel/2021-olympics-in-tokyo) dataset to illustrate the use of Sankey diagram"
   ]
  },
  {
   "cell_type": "code",
   "execution_count": 78,
   "metadata": {},
   "outputs": [
    {
     "name": "stdout",
     "output_type": "stream",
     "text": [
      "<class 'pandas.core.frame.DataFrame'>\n",
      "RangeIndex: 93 entries, 0 to 92\n",
      "Data columns (total 9 columns):\n",
      " #   Column         Non-Null Count  Dtype  \n",
      "---  ------         --------------  -----  \n",
      " 0   Rank           93 non-null     int64  \n",
      " 1   Team/NOC       93 non-null     object \n",
      " 2   Gold           93 non-null     int64  \n",
      " 3   Silver         93 non-null     int64  \n",
      " 4   Bronze         93 non-null     int64  \n",
      " 5   Total          93 non-null     int64  \n",
      " 6   Rank by Total  93 non-null     int64  \n",
      " 7   Unnamed: 7     0 non-null      float64\n",
      " 8   Unnamed: 8     1 non-null      float64\n",
      "dtypes: float64(2), int64(6), object(1)\n",
      "memory usage: 6.7+ KB\n",
      "None\n"
     ]
    }
   ],
   "source": [
    "df_medals = pd.read_excel(\"data/Medals.xlsx\")\n",
    "print(df_medals.info())"
   ]
  },
  {
   "cell_type": "markdown",
   "metadata": {},
   "source": [
    "- We need only the Rank, Country, Medals information. So, let's drop the Rank by Total and the Unnamed columns\n",
    "- There is no missing data and no missing data handling is needed"
   ]
  },
  {
   "cell_type": "code",
   "execution_count": 79,
   "metadata": {},
   "outputs": [
    {
     "data": {
      "text/html": [
       "<div>\n",
       "<style scoped>\n",
       "    .dataframe tbody tr th:only-of-type {\n",
       "        vertical-align: middle;\n",
       "    }\n",
       "\n",
       "    .dataframe tbody tr th {\n",
       "        vertical-align: top;\n",
       "    }\n",
       "\n",
       "    .dataframe thead th {\n",
       "        text-align: right;\n",
       "    }\n",
       "</style>\n",
       "<table border=\"1\" class=\"dataframe\">\n",
       "  <thead>\n",
       "    <tr style=\"text-align: right;\">\n",
       "      <th></th>\n",
       "      <th>Rank</th>\n",
       "      <th>Country</th>\n",
       "      <th>Gold Medals</th>\n",
       "      <th>Silver Medals</th>\n",
       "      <th>Bronze Medals</th>\n",
       "      <th>Total Medals</th>\n",
       "    </tr>\n",
       "  </thead>\n",
       "  <tbody>\n",
       "    <tr>\n",
       "      <th>0</th>\n",
       "      <td>1</td>\n",
       "      <td>United States of America</td>\n",
       "      <td>39</td>\n",
       "      <td>41</td>\n",
       "      <td>33</td>\n",
       "      <td>113</td>\n",
       "    </tr>\n",
       "    <tr>\n",
       "      <th>1</th>\n",
       "      <td>2</td>\n",
       "      <td>People's Republic of China</td>\n",
       "      <td>38</td>\n",
       "      <td>32</td>\n",
       "      <td>18</td>\n",
       "      <td>88</td>\n",
       "    </tr>\n",
       "    <tr>\n",
       "      <th>2</th>\n",
       "      <td>3</td>\n",
       "      <td>Japan</td>\n",
       "      <td>27</td>\n",
       "      <td>14</td>\n",
       "      <td>17</td>\n",
       "      <td>58</td>\n",
       "    </tr>\n",
       "    <tr>\n",
       "      <th>3</th>\n",
       "      <td>4</td>\n",
       "      <td>Great Britain</td>\n",
       "      <td>22</td>\n",
       "      <td>21</td>\n",
       "      <td>22</td>\n",
       "      <td>65</td>\n",
       "    </tr>\n",
       "    <tr>\n",
       "      <th>4</th>\n",
       "      <td>5</td>\n",
       "      <td>ROC</td>\n",
       "      <td>20</td>\n",
       "      <td>28</td>\n",
       "      <td>23</td>\n",
       "      <td>71</td>\n",
       "    </tr>\n",
       "    <tr>\n",
       "      <th>...</th>\n",
       "      <td>...</td>\n",
       "      <td>...</td>\n",
       "      <td>...</td>\n",
       "      <td>...</td>\n",
       "      <td>...</td>\n",
       "      <td>...</td>\n",
       "    </tr>\n",
       "    <tr>\n",
       "      <th>88</th>\n",
       "      <td>86</td>\n",
       "      <td>Ghana</td>\n",
       "      <td>0</td>\n",
       "      <td>0</td>\n",
       "      <td>1</td>\n",
       "      <td>1</td>\n",
       "    </tr>\n",
       "    <tr>\n",
       "      <th>89</th>\n",
       "      <td>86</td>\n",
       "      <td>Grenada</td>\n",
       "      <td>0</td>\n",
       "      <td>0</td>\n",
       "      <td>1</td>\n",
       "      <td>1</td>\n",
       "    </tr>\n",
       "    <tr>\n",
       "      <th>90</th>\n",
       "      <td>86</td>\n",
       "      <td>Kuwait</td>\n",
       "      <td>0</td>\n",
       "      <td>0</td>\n",
       "      <td>1</td>\n",
       "      <td>1</td>\n",
       "    </tr>\n",
       "    <tr>\n",
       "      <th>91</th>\n",
       "      <td>86</td>\n",
       "      <td>Republic of Moldova</td>\n",
       "      <td>0</td>\n",
       "      <td>0</td>\n",
       "      <td>1</td>\n",
       "      <td>1</td>\n",
       "    </tr>\n",
       "    <tr>\n",
       "      <th>92</th>\n",
       "      <td>86</td>\n",
       "      <td>Syrian Arab Republic</td>\n",
       "      <td>0</td>\n",
       "      <td>0</td>\n",
       "      <td>1</td>\n",
       "      <td>1</td>\n",
       "    </tr>\n",
       "  </tbody>\n",
       "</table>\n",
       "<p>93 rows × 6 columns</p>\n",
       "</div>"
      ],
      "text/plain": [
       "    Rank                     Country  Gold Medals  Silver Medals  \\\n",
       "0      1    United States of America           39             41   \n",
       "1      2  People's Republic of China           38             32   \n",
       "2      3                       Japan           27             14   \n",
       "3      4               Great Britain           22             21   \n",
       "4      5                         ROC           20             28   \n",
       "..   ...                         ...          ...            ...   \n",
       "88    86                       Ghana            0              0   \n",
       "89    86                     Grenada            0              0   \n",
       "90    86                      Kuwait            0              0   \n",
       "91    86         Republic of Moldova            0              0   \n",
       "92    86        Syrian Arab Republic            0              0   \n",
       "\n",
       "    Bronze Medals  Total Medals  \n",
       "0              33           113  \n",
       "1              18            88  \n",
       "2              17            58  \n",
       "3              22            65  \n",
       "4              23            71  \n",
       "..            ...           ...  \n",
       "88              1             1  \n",
       "89              1             1  \n",
       "90              1             1  \n",
       "91              1             1  \n",
       "92              1             1  \n",
       "\n",
       "[93 rows x 6 columns]"
      ]
     },
     "execution_count": 79,
     "metadata": {},
     "output_type": "execute_result"
    }
   ],
   "source": [
    "df_medals.rename(columns={'Team/NOC':'Country', 'Total': 'Total Medals', 'Gold':'Gold Medals', 'Silver': 'Silver Medals', 'Bronze': 'Bronze Medals'}, inplace=True)\n",
    "df_medals.drop(columns=['Unnamed: 7','Unnamed: 8','Rank by Total'], inplace=True)\n",
    "df_medals"
   ]
  },
  {
   "cell_type": "markdown",
   "metadata": {},
   "source": [
    "## Stacked bar chart"
   ]
  },
  {
   "cell_type": "code",
   "execution_count": 115,
   "metadata": {},
   "outputs": [],
   "source": [
    "df_ = df_medals[['Rank', 'Country','Gold Medals', 'Silver Medals','Bronze Medals','Total Medals']][:40]\n",
    "df_5 = df_medals[['Rank', 'Country','Gold Medals', 'Silver Medals','Bronze Medals','Total Medals']][:40].iloc[:5,:]\n",
    "df__5 = df_medals[['Country','Gold Medals', 'Silver Medals','Bronze Medals']][:40].iloc[:5,:]"
   ]
  },
  {
   "cell_type": "code",
   "execution_count": 128,
   "metadata": {},
   "outputs": [
    {
     "data": {
      "text/plain": [
       "(array([0, 1, 2, 3, 4]),\n",
       " [Text(0, 0, 'United States of America'),\n",
       "  Text(1, 0, \"People's Republic of China\"),\n",
       "  Text(2, 0, 'Japan'),\n",
       "  Text(3, 0, 'Great Britain'),\n",
       "  Text(4, 0, 'ROC')])"
      ]
     },
     "execution_count": 128,
     "metadata": {},
     "output_type": "execute_result"
    },
    {
     "data": {
      "image/png": "[encoded data removed]",
      "text/plain": [
       "<Figure size 936x432 with 1 Axes>"
      ]
     },
     "metadata": {
      "needs_background": "light"
     },
     "output_type": "display_data"
    }
   ],
   "source": [
    "ax = df__5.plot.bar(stacked=True, color = [\"gold\", \"silver\", \"brown\"], x='Country', xlabel = '', figsize=(13,6))\n",
    "ax.set_ylabel('Medals')\n",
    "annotate(ax,'Olympics 2021: Country & Medals')\n",
    "plt.xticks(rotation=0) "
   ]
  },
  {
   "cell_type": "markdown",
   "metadata": {},
   "source": [
    "## Parallel Coordinates "
   ]
  },
  {
   "cell_type": "code",
   "execution_count": 138,
   "metadata": {},
   "outputs": [
    {
     "data": {
      "image/png": "[encoded data removed]"
     },
     "metadata": {},
     "output_type": "display_data"
    }
   ],
   "source": [
    "# Let's reverse the min and max values for the Rank, so that the country with top rank comes on the top. \n",
    "dimensions = list([ dict(range=(df_5['Rank'].max(), df_5['Rank'].min()), tickvals = df_5['Rank'], ticktext = df_5['Country'],label='Country', values=df_5['Rank']),\n",
    "                    dict(range=(df_5['Total Medals'].min(), df_5['Total Medals'].max()),label='Total Medals', values=df_5['Total Medals']),\n",
    "                    dict(range=(df_5['Gold Medals'].min(), df_5['Gold Medals'].max()),label='Gold Medals', values=df_5['Gold Medals']),\n",
    "                    dict(range=(df_5['Silver Medals'].min(), df_5['Silver Medals'].max()),label='Silver Medals', values=df_5['Silver Medals']),\n",
    "                    dict(range=(df_5['Bronze Medals'].min(), df_5['Bronze Medals'].max()),label='Bronze Medals', values=df_5['Bronze Medals']),\n",
    "                  ])\n",
    "fig = go.Figure(data= go.Parcoords(line = dict(color = df_5['Rank'], colorscale = 'agsunset'), dimensions = dimensions))\n",
    "fig.update_layout(width=1200, height=400,margin=dict(l=150, r=60, t=100, b=40), title=go.layout.Title(text=\"Olympics 2021: Country & Medals\"))\n",
    "fig.show(\"png\") #fig.show()"
   ]
  },
  {
   "cell_type": "markdown",
   "metadata": {},
   "source": [
    "## Sankey diagram"
   ]
  },
  {
   "cell_type": "code",
   "execution_count": 83,
   "metadata": {},
   "outputs": [
    {
     "name": "stdout",
     "output_type": "stream",
     "text": [
      "node_labels ['United States of America', \"People's Republic of China\", 'Japan', 'Great Britain', 'ROC', 'Gold', 'Silver', 'Bronze', 'Total Medals']\n",
      "node_x_pos [0.01, 0.01, 0.01, 0.01, 0.01, 0.5, 0.5, 0.5, 0.75]\n",
      "node_y_pos [0.01, 0.26, 0.51, 0.76, 1.01, 0.01, 0.5, 1, 0.5]\n"
     ]
    },
    {
     "data": {
      "text/plain": [
       "'; print(\"node_colors\", node_colors)\\n\\nprint(\"link_labels\", link_labels); print(\"link_values\", link_values)'"
      ]
     },
     "execution_count": 83,
     "metadata": {},
     "output_type": "execute_result"
    }
   ],
   "source": [
    "import plotly.graph_objects as go\n",
    "NUM_COUNTRIES = 5\n",
    "X_POS, Y_POS = 0.5, 1/(NUM_COUNTRIES-1)\n",
    "NODE_COLORS = [\"seagreen\", \"dodgerblue\", \"orange\", \"palevioletred\", \"darkcyan\"]\n",
    "LINK_COLORS = [\"lightgreen\", \"lightskyblue\", \"bisque\", \"pink\", \"lightcyan\"]\n",
    "\n",
    "source = []\n",
    "node_x_pos, node_y_pos = [], []\n",
    "node_labels, node_colors = [], NODE_COLORS[0:NUM_COUNTRIES]\n",
    "link_labels, link_colors, link_values = [], [], [] \n",
    "\n",
    "# FIRST set of links and nodes\n",
    "for i in range(NUM_COUNTRIES):\n",
    "    source.extend([i]*3)\n",
    "    node_x_pos.append(0.01)\n",
    "    node_y_pos.append(round(i*Y_POS+0.01,2))\n",
    "    country = df_medals['Country'][i]\n",
    "    node_labels.append(country) \n",
    "    for medal in [\"Gold\", \"Silver\", \"Bronze\"]:\n",
    "        link_labels.append(f\"{country}-{medal}\")\n",
    "        link_values.append(df_medals[f\"{medal} Medals\"][i])\n",
    "    link_colors.extend([LINK_COLORS[i]]*3)\n",
    "\n",
    "source_last = max(source)+1\n",
    "target = [ source_last, source_last+1, source_last+2] * NUM_COUNTRIES\n",
    "target_last = max(target)+1\n",
    "\n",
    "node_labels.extend([\"Gold\", \"Silver\", \"Bronze\"])\n",
    "node_colors.extend([\"gold\", \"silver\", \"brown\"])\n",
    "node_x_pos.extend([X_POS, X_POS, X_POS])\n",
    "node_y_pos.extend([0.01, 0.5, 1])\n",
    "\n",
    "# LAST set of links and nodes\n",
    "source.extend([ source_last, source_last+1, source_last+2])\n",
    "target.extend([target_last]*3)\n",
    "node_labels.extend([\"Total Medals\"])\n",
    "node_colors.extend([\"grey\"])\n",
    "node_x_pos.extend([X_POS+0.25])\n",
    "node_y_pos.extend([0.5])\n",
    "\n",
    "for medal in [\"Gold\",\"Silver\",\"Bronze\"]:\n",
    "    link_labels.append(f\"{medal}\")\n",
    "    link_values.append(df_medals[f\"{medal} Medals\"][:i+1].sum())\n",
    "link_colors.extend([\"gold\", \"silver\", \"brown\"])\n",
    "\n",
    "'''print(\"source\", source, source_last); print(\"target\", target)'''\n",
    "print(\"node_labels\", node_labels)\n",
    "print(\"node_x_pos\", node_x_pos); print(\"node_y_pos\", node_y_pos)\n",
    "'''; print(\"node_colors\", node_colors)\n",
    "\n",
    "print(\"link_labels\", link_labels); print(\"link_values\", link_values)'''"
   ]
  },
  {
   "cell_type": "code",
   "execution_count": 125,
   "metadata": {},
   "outputs": [
    {
     "data": {
      "application/vnd.plotly.v1+json": {
       "config": {
        "plotlyServerURL": "https://plot.ly"
       },
       "data": [
        {
         "arrangement": "snap",
         "link": {
          "color": [
           "lightgreen",
           "lightgreen",
           "lightgreen",
           "lightskyblue",
           "lightskyblue",
           "lightskyblue",
           "bisque",
           "bisque",
           "bisque",
           "pink",
           "pink",
           "pink",
           "lightcyan",
           "lightcyan",
           "lightcyan",
           "gold",
           "silver",
           "brown"
          ],
          "hovertemplate": "%{label}",
          "label": [
           "United States of America-Gold",
           "United States of America-Silver",
           "United States of America-Bronze",
           "People's Republic of China-Gold",
           "People's Republic of China-Silver",
           "People's Republic of China-Bronze",
           "Japan-Gold",
           "Japan-Silver",
           "Japan-Bronze",
           "Great Britain-Gold",
           "Great Britain-Silver",
           "Great Britain-Bronze",
           "ROC-Gold",
           "ROC-Silver",
           "ROC-Bronze",
           "Gold",
           "Silver",
           "Bronze"
          ],
          "source": [
           0,
           0,
           0,
           1,
           1,
           1,
           2,
           2,
           2,
           3,
           3,
           3,
           4,
           4,
           4,
           5,
           6,
           7
          ],
          "target": [
           5,
           6,
           7,
           5,
           6,
           7,
           5,
           6,
           7,
           5,
           6,
           7,
           5,
           6,
           7,
           8,
           8,
           8
          ],
          "value": [
           39,
           41,
           33,
           38,
           32,
           18,
           27,
           14,
           17,
           22,
           21,
           22,
           20,
           28,
           23,
           146,
           136,
           113
          ]
         },
         "node": {
          "color": [
           "seagreen",
           "dodgerblue",
           "orange",
           "palevioletred",
           "darkcyan",
           "gold",
           "silver",
           "brown",
           "grey"
          ],
          "hovertemplate": " ",
          "label": [
           "United States of America",
           "People's Republic of China",
           "Japan",
           "Great Britain",
           "ROC",
           "Gold",
           "Silver",
           "Bronze",
           "Total Medals"
          ],
          "line": {
           "color": "lightslategrey",
           "width": 0.5
          },
          "pad": 20,
          "thickness": 20,
          "x": [
           0.01,
           0.01,
           0.01,
           0.01,
           0.01,
           0.5,
           0.5,
           0.5,
           0.75
          ],
          "y": [
           0.01,
           0.26,
           0.51,
           0.76,
           1.01,
           0.01,
           0.5,
           1,
           0.5
          ]
         },
         "type": "sankey",
         "valueformat": "3d",
         "valuesuffix": " Medals"
        }
       ],
       "layout": {
        "font": {
         "size": 16
        },
        "height": 500,
        "hoverlabel": {
         "bgcolor": "grey",
         "font": {
          "family": "Rockwell",
          "size": 14
         }
        },
        "template": {
         "data": {
          "bar": [
           {
            "error_x": {
             "color": "#2a3f5f"
            },
            "error_y": {
             "color": "#2a3f5f"
            },
            "marker": {
             "line": {
              "color": "#E5ECF6",
              "width": 0.5
             },
             "pattern": {
              "fillmode": "overlay",
              "size": 10,
              "solidity": 0.2
             }
            },
            "type": "bar"
           }
          ],
          "barpolar": [
           {
            "marker": {
             "line": {
              "color": "#E5ECF6",
              "width": 0.5
             },
             "pattern": {
              "fillmode": "overlay",
              "size": 10,
              "solidity": 0.2
             }
            },
            "type": "barpolar"
           }
          ],
          "carpet": [
           {
            "aaxis": {
             "endlinecolor": "#2a3f5f",
             "gridcolor": "white",
             "linecolor": "white",
             "minorgridcolor": "white",
             "startlinecolor": "#2a3f5f"
            },
            "baxis": {
             "endlinecolor": "#2a3f5f",
             "gridcolor": "white",
             "linecolor": "white",
             "minorgridcolor": "white",
             "startlinecolor": "#2a3f5f"
            },
            "type": "carpet"
           }
          ],
          "choropleth": [
           {
            "colorbar": {
             "outlinewidth": 0,
             "ticks": ""
            },
            "type": "choropleth"
           }
          ],
          "contour": [
           {
            "colorbar": {
             "outlinewidth": 0,
             "ticks": ""
            },
            "colorscale": [
             [
              0,
              "#0d0887"
             ],
             [
              0.1111111111111111,
              "#46039f"
             ],
             [
              0.2222222222222222,
              "#7201a8"
             ],
             [
              0.3333333333333333,
              "#9c179e"
             ],
             [
              0.4444444444444444,
              "#bd3786"
             ],
             [
              0.5555555555555556,
              "#d8576b"
             ],
             [
              0.6666666666666666,
              "#ed7953"
             ],
             [
              0.7777777777777778,
              "#fb9f3a"
             ],
             [
              0.8888888888888888,
              "#fdca26"
             ],
             [
              1,
              "#f0f921"
             ]
            ],
            "type": "contour"
           }
          ],
          "contourcarpet": [
           {
            "colorbar": {
             "outlinewidth": 0,
             "ticks": ""
            },
            "type": "contourcarpet"
           }
          ],
          "heatmap": [
           {
            "colorbar": {
             "outlinewidth": 0,
             "ticks": ""
            },
            "colorscale": [
             [
              0,
              "#0d0887"
             ],
             [
              0.1111111111111111,
              "#46039f"
             ],
             [
              0.2222222222222222,
              "#7201a8"
             ],
             [
              0.3333333333333333,
              "#9c179e"
             ],
             [
              0.4444444444444444,
              "#bd3786"
             ],
             [
              0.5555555555555556,
              "#d8576b"
             ],
             [
              0.6666666666666666,
              "#ed7953"
             ],
             [
              0.7777777777777778,
              "#fb9f3a"
             ],
             [
              0.8888888888888888,
              "#fdca26"
             ],
             [
              1,
              "#f0f921"
             ]
            ],
            "type": "heatmap"
           }
          ],
          "heatmapgl": [
           {
            "colorbar": {
             "outlinewidth": 0,
             "ticks": ""
            },
            "colorscale": [
             [
              0,
              "#0d0887"
             ],
             [
              0.1111111111111111,
              "#46039f"
             ],
             [
              0.2222222222222222,
              "#7201a8"
             ],
             [
              0.3333333333333333,
              "#9c179e"
             ],
             [
              0.4444444444444444,
              "#bd3786"
             ],
             [
              0.5555555555555556,
              "#d8576b"
             ],
             [
              0.6666666666666666,
              "#ed7953"
             ],
             [
              0.7777777777777778,
              "#fb9f3a"
             ],
             [
              0.8888888888888888,
              "#fdca26"
             ],
             [
              1,
              "#f0f921"
             ]
            ],
            "type": "heatmapgl"
           }
          ],
          "histogram": [
           {
            "marker": {
             "pattern": {
              "fillmode": "overlay",
              "size": 10,
              "solidity": 0.2
             }
            },
            "type": "histogram"
           }
          ],
          "histogram2d": [
           {
            "colorbar": {
             "outlinewidth": 0,
             "ticks": ""
            },
            "colorscale": [
             [
              0,
              "#0d0887"
             ],
             [
              0.1111111111111111,
              "#46039f"
             ],
             [
              0.2222222222222222,
              "#7201a8"
             ],
             [
              0.3333333333333333,
              "#9c179e"
             ],
             [
              0.4444444444444444,
              "#bd3786"
             ],
             [
              0.5555555555555556,
              "#d8576b"
             ],
             [
              0.6666666666666666,
              "#ed7953"
             ],
             [
              0.7777777777777778,
              "#fb9f3a"
             ],
             [
              0.8888888888888888,
              "#fdca26"
             ],
             [
              1,
              "#f0f921"
             ]
            ],
            "type": "histogram2d"
           }
          ],
          "histogram2dcontour": [
           {
            "colorbar": {
             "outlinewidth": 0,
             "ticks": ""
            },
            "colorscale": [
             [
              0,
              "#0d0887"
             ],
             [
              0.1111111111111111,
              "#46039f"
             ],
             [
              0.2222222222222222,
              "#7201a8"
             ],
             [
              0.3333333333333333,
              "#9c179e"
             ],
             [
              0.4444444444444444,
              "#bd3786"
             ],
             [
              0.5555555555555556,
              "#d8576b"
             ],
             [
              0.6666666666666666,
              "#ed7953"
             ],
             [
              0.7777777777777778,
              "#fb9f3a"
             ],
             [
              0.8888888888888888,
              "#fdca26"
             ],
             [
              1,
              "#f0f921"
             ]
            ],
            "type": "histogram2dcontour"
           }
          ],
          "mesh3d": [
           {
            "colorbar": {
             "outlinewidth": 0,
             "ticks": ""
            },
            "type": "mesh3d"
           }
          ],
          "parcoords": [
           {
            "line": {
             "colorbar": {
              "outlinewidth": 0,
              "ticks": ""
             }
            },
            "type": "parcoords"
           }
          ],
          "pie": [
           {
            "automargin": true,
            "type": "pie"
           }
          ],
          "scatter": [
           {
            "marker": {
             "colorbar": {
              "outlinewidth": 0,
              "ticks": ""
             }
            },
            "type": "scatter"
           }
          ],
          "scatter3d": [
           {
            "line": {
             "colorbar": {
              "outlinewidth": 0,
              "ticks": ""
             }
            },
            "marker": {
             "colorbar": {
              "outlinewidth": 0,
              "ticks": ""
             }
            },
            "type": "scatter3d"
           }
          ],
          "scattercarpet": [
           {
            "marker": {
             "colorbar": {
              "outlinewidth": 0,
              "ticks": ""
             }
            },
            "type": "scattercarpet"
           }
          ],
          "scattergeo": [
           {
            "marker": {
             "colorbar": {
              "outlinewidth": 0,
              "ticks": ""
             }
            },
            "type": "scattergeo"
           }
          ],
          "scattergl": [
           {
            "marker": {
             "colorbar": {
              "outlinewidth": 0,
              "ticks": ""
             }
            },
            "type": "scattergl"
           }
          ],
          "scattermapbox": [
           {
            "marker": {
             "colorbar": {
              "outlinewidth": 0,
              "ticks": ""
             }
            },
            "type": "scattermapbox"
           }
          ],
          "scatterpolar": [
           {
            "marker": {
             "colorbar": {
              "outlinewidth": 0,
              "ticks": ""
             }
            },
            "type": "scatterpolar"
           }
          ],
          "scatterpolargl": [
           {
            "marker": {
             "colorbar": {
              "outlinewidth": 0,
              "ticks": ""
             }
            },
            "type": "scatterpolargl"
           }
          ],
          "scatterternary": [
           {
            "marker": {
             "colorbar": {
              "outlinewidth": 0,
              "ticks": ""
             }
            },
            "type": "scatterternary"
           }
          ],
          "surface": [
           {
            "colorbar": {
             "outlinewidth": 0,
             "ticks": ""
            },
            "colorscale": [
             [
              0,
              "#0d0887"
             ],
             [
              0.1111111111111111,
              "#46039f"
             ],
             [
              0.2222222222222222,
              "#7201a8"
             ],
             [
              0.3333333333333333,
              "#9c179e"
             ],
             [
              0.4444444444444444,
              "#bd3786"
             ],
             [
              0.5555555555555556,
              "#d8576b"
             ],
             [
              0.6666666666666666,
              "#ed7953"
             ],
             [
              0.7777777777777778,
              "#fb9f3a"
             ],
             [
              0.8888888888888888,
              "#fdca26"
             ],
             [
              1,
              "#f0f921"
             ]
            ],
            "type": "surface"
           }
          ],
          "table": [
           {
            "cells": {
             "fill": {
              "color": "#EBF0F8"
             },
             "line": {
              "color": "white"
             }
            },
            "header": {
             "fill": {
              "color": "#C8D4E3"
             },
             "line": {
              "color": "white"
             }
            },
            "type": "table"
           }
          ]
         },
         "layout": {
          "annotationdefaults": {
           "arrowcolor": "#2a3f5f",
           "arrowhead": 0,
           "arrowwidth": 1
          },
          "autotypenumbers": "strict",
          "coloraxis": {
           "colorbar": {
            "outlinewidth": 0,
            "ticks": ""
           }
          },
          "colorscale": {
           "diverging": [
            [
             0,
             "#8e0152"
            ],
            [
             0.1,
             "#c51b7d"
            ],
            [
             0.2,
             "#de77ae"
            ],
            [
             0.3,
             "#f1b6da"
            ],
            [
             0.4,
             "#fde0ef"
            ],
            [
             0.5,
             "#f7f7f7"
            ],
            [
             0.6,
             "#e6f5d0"
            ],
            [
             0.7,
             "#b8e186"
            ],
            [
             0.8,
             "#7fbc41"
            ],
            [
             0.9,
             "#4d9221"
            ],
            [
             1,
             "#276419"
            ]
           ],
           "sequential": [
            [
             0,
             "#0d0887"
            ],
            [
             0.1111111111111111,
             "#46039f"
            ],
            [
             0.2222222222222222,
             "#7201a8"
            ],
            [
             0.3333333333333333,
             "#9c179e"
            ],
            [
             0.4444444444444444,
             "#bd3786"
            ],
            [
             0.5555555555555556,
             "#d8576b"
            ],
            [
             0.6666666666666666,
             "#ed7953"
            ],
            [
             0.7777777777777778,
             "#fb9f3a"
            ],
            [
             0.8888888888888888,
             "#fdca26"
            ],
            [
             1,
             "#f0f921"
            ]
           ],
           "sequentialminus": [
            [
             0,
             "#0d0887"
            ],
            [
             0.1111111111111111,
             "#46039f"
            ],
            [
             0.2222222222222222,
             "#7201a8"
            ],
            [
             0.3333333333333333,
             "#9c179e"
            ],
            [
             0.4444444444444444,
             "#bd3786"
            ],
            [
             0.5555555555555556,
             "#d8576b"
            ],
            [
             0.6666666666666666,
             "#ed7953"
            ],
            [
             0.7777777777777778,
             "#fb9f3a"
            ],
            [
             0.8888888888888888,
             "#fdca26"
            ],
            [
             1,
             "#f0f921"
            ]
           ]
          },
          "colorway": [
           "#636efa",
           "#EF553B",
           "#00cc96",
           "#ab63fa",
           "#FFA15A",
           "#19d3f3",
           "#FF6692",
           "#B6E880",
           "#FF97FF",
           "#FECB52"
          ],
          "font": {
           "color": "#2a3f5f"
          },
          "geo": {
           "bgcolor": "white",
           "lakecolor": "white",
           "landcolor": "#E5ECF6",
           "showlakes": true,
           "showland": true,
           "subunitcolor": "white"
          },
          "hoverlabel": {
           "align": "left"
          },
          "hovermode": "closest",
          "mapbox": {
           "style": "light"
          },
          "paper_bgcolor": "white",
          "plot_bgcolor": "#E5ECF6",
          "polar": {
           "angularaxis": {
            "gridcolor": "white",
            "linecolor": "white",
            "ticks": ""
           },
           "bgcolor": "#E5ECF6",
           "radialaxis": {
            "gridcolor": "white",
            "linecolor": "white",
            "ticks": ""
           }
          },
          "scene": {
           "xaxis": {
            "backgroundcolor": "#E5ECF6",
            "gridcolor": "white",
            "gridwidth": 2,
            "linecolor": "white",
            "showbackground": true,
            "ticks": "",
            "zerolinecolor": "white"
           },
           "yaxis": {
            "backgroundcolor": "#E5ECF6",
            "gridcolor": "white",
            "gridwidth": 2,
            "linecolor": "white",
            "showbackground": true,
            "ticks": "",
            "zerolinecolor": "white"
           },
           "zaxis": {
            "backgroundcolor": "#E5ECF6",
            "gridcolor": "white",
            "gridwidth": 2,
            "linecolor": "white",
            "showbackground": true,
            "ticks": "",
            "zerolinecolor": "white"
           }
          },
          "shapedefaults": {
           "line": {
            "color": "#2a3f5f"
           }
          },
          "ternary": {
           "aaxis": {
            "gridcolor": "white",
            "linecolor": "white",
            "ticks": ""
           },
           "baxis": {
            "gridcolor": "white",
            "linecolor": "white",
            "ticks": ""
           },
           "bgcolor": "#E5ECF6",
           "caxis": {
            "gridcolor": "white",
            "linecolor": "white",
            "ticks": ""
           }
          },
          "title": {
           "x": 0.05
          },
          "xaxis": {
           "automargin": true,
           "gridcolor": "white",
           "linecolor": "white",
           "ticks": "",
           "title": {
            "standoff": 15
           },
           "zerolinecolor": "white",
           "zerolinewidth": 2
          },
          "yaxis": {
           "automargin": true,
           "gridcolor": "white",
           "linecolor": "white",
           "ticks": "",
           "title": {
            "standoff": 15
           },
           "zerolinecolor": "white",
           "zerolinewidth": 2
          }
         }
        },
        "title": {
         "text": "Olympics - 2021: Country &  Medals"
        },
        "width": 1200
       }
      }
     },
     "metadata": {},
     "output_type": "display_data"
    }
   ],
   "source": [
    "# Display the figure\n",
    "NODES = dict(pad  = 20, thickness = 20, line  = dict(color = \"lightslategrey\", width = 0.5),hovertemplate=\" \",\n",
    "            label = node_labels, color = node_colors,\n",
    "            x = node_x_pos, y = node_y_pos, )\n",
    "LINKS = dict(source = source, target = target, value = link_values, \n",
    "            label = link_labels, color = link_colors,\n",
    "            hovertemplate=\"%{label}\",)\n",
    "data = go.Sankey( arrangement='snap', node = NODES, link = LINKS)\n",
    "fig = go.Figure(data)\n",
    "fig.update_traces( valueformat='3d', valuesuffix=' Medals', selector=dict(type='sankey'))\n",
    "fig.update_layout(title=\"Olympics 2021: Country & Medals\",  font_size=16,  width=1200,height=500,)\n",
    "fig.update_layout(hoverlabel=dict( bgcolor=\"grey\", font_size=14, font_family=\"Rockwell\"))\n",
    "fig.show()"
   ]
  },
  {
   "cell_type": "markdown",
   "metadata": {},
   "source": [
    "## Map"
   ]
  },
  {
   "cell_type": "code",
   "execution_count": 85,
   "metadata": {},
   "outputs": [
    {
     "name": "stdout",
     "output_type": "stream",
     "text": [
      "Type of df_world: <class 'geopandas.geodataframe.GeoDataFrame'> Active geometry: geometry\n",
      "\n",
      "Value counts of geometry column: Polygon         148\n",
      "MultiPolygon     29\n",
      "dtype: int64\n",
      "\n"
     ]
    },
    {
     "data": {
      "text/html": [
       "<div>\n",
       "<style scoped>\n",
       "    .dataframe tbody tr th:only-of-type {\n",
       "        vertical-align: middle;\n",
       "    }\n",
       "\n",
       "    .dataframe tbody tr th {\n",
       "        vertical-align: top;\n",
       "    }\n",
       "\n",
       "    .dataframe thead th {\n",
       "        text-align: right;\n",
       "    }\n",
       "</style>\n",
       "<table border=\"1\" class=\"dataframe\">\n",
       "  <thead>\n",
       "    <tr style=\"text-align: right;\">\n",
       "      <th></th>\n",
       "      <th>pop_est</th>\n",
       "      <th>continent</th>\n",
       "      <th>name</th>\n",
       "      <th>iso_a3</th>\n",
       "      <th>gdp_md_est</th>\n",
       "      <th>geometry</th>\n",
       "    </tr>\n",
       "  </thead>\n",
       "  <tbody>\n",
       "    <tr>\n",
       "      <th>0</th>\n",
       "      <td>920938</td>\n",
       "      <td>Oceania</td>\n",
       "      <td>Fiji</td>\n",
       "      <td>FJI</td>\n",
       "      <td>8374.0</td>\n",
       "      <td>MULTIPOLYGON (((180.00000 -16.06713, 180.00000...</td>\n",
       "    </tr>\n",
       "    <tr>\n",
       "      <th>1</th>\n",
       "      <td>53950935</td>\n",
       "      <td>Africa</td>\n",
       "      <td>Tanzania</td>\n",
       "      <td>TZA</td>\n",
       "      <td>150600.0</td>\n",
       "      <td>POLYGON ((33.90371 -0.95000, 34.07262 -1.05982...</td>\n",
       "    </tr>\n",
       "    <tr>\n",
       "      <th>2</th>\n",
       "      <td>603253</td>\n",
       "      <td>Africa</td>\n",
       "      <td>W. Sahara</td>\n",
       "      <td>ESH</td>\n",
       "      <td>906.5</td>\n",
       "      <td>POLYGON ((-8.66559 27.65643, -8.66512 27.58948...</td>\n",
       "    </tr>\n",
       "    <tr>\n",
       "      <th>3</th>\n",
       "      <td>35623680</td>\n",
       "      <td>North America</td>\n",
       "      <td>Canada</td>\n",
       "      <td>CAN</td>\n",
       "      <td>1674000.0</td>\n",
       "      <td>MULTIPOLYGON (((-122.84000 49.00000, -122.9742...</td>\n",
       "    </tr>\n",
       "    <tr>\n",
       "      <th>4</th>\n",
       "      <td>326625791</td>\n",
       "      <td>North America</td>\n",
       "      <td>United States of America</td>\n",
       "      <td>USA</td>\n",
       "      <td>18560000.0</td>\n",
       "      <td>MULTIPOLYGON (((-122.84000 49.00000, -120.0000...</td>\n",
       "    </tr>\n",
       "  </tbody>\n",
       "</table>\n",
       "</div>"
      ],
      "text/plain": [
       "     pop_est      continent                      name iso_a3  gdp_md_est  \\\n",
       "0     920938        Oceania                      Fiji    FJI      8374.0   \n",
       "1   53950935         Africa                  Tanzania    TZA    150600.0   \n",
       "2     603253         Africa                 W. Sahara    ESH       906.5   \n",
       "3   35623680  North America                    Canada    CAN   1674000.0   \n",
       "4  326625791  North America  United States of America    USA  18560000.0   \n",
       "\n",
       "                                            geometry  \n",
       "0  MULTIPOLYGON (((180.00000 -16.06713, 180.00000...  \n",
       "1  POLYGON ((33.90371 -0.95000, 34.07262 -1.05982...  \n",
       "2  POLYGON ((-8.66559 27.65643, -8.66512 27.58948...  \n",
       "3  MULTIPOLYGON (((-122.84000 49.00000, -122.9742...  \n",
       "4  MULTIPOLYGON (((-122.84000 49.00000, -120.0000...  "
      ]
     },
     "execution_count": 85,
     "metadata": {},
     "output_type": "execute_result"
    }
   ],
   "source": [
    "df_world = gpd.read_file(gpd.datasets.get_path('naturalearth_lowres'))\n",
    "print(f\"Type of df_world: {type(df_world)} Active geometry: {df_world.geometry.name}\\n\")\n",
    "print(f\"Value counts of geometry column: {df_world.geometry.geom_type.value_counts()}\\n\")\n",
    "df_world.head()"
   ]
  },
  {
   "cell_type": "code",
   "execution_count": 86,
   "metadata": {},
   "outputs": [
    {
     "name": "stdout",
     "output_type": "stream",
     "text": [
      "geopandas_countries 177 teams_countries 40\n",
      "Countries in teams but not found in the geo dataset\n"
     ]
    },
    {
     "data": {
      "text/plain": [
       "['Czech Republic',\n",
       " 'Chinese Taipei',\n",
       " 'Republic of Korea',\n",
       " 'Islamic Republic of Iran',\n",
       " 'ROC',\n",
       " \"People's Republic of China\",\n",
       " 'Great Britain']"
      ]
     },
     "execution_count": 86,
     "metadata": {},
     "output_type": "execute_result"
    }
   ],
   "source": [
    "geopandas_countries = set(df_world['name'].unique().tolist())\n",
    "teams_countries = set(df_['Country'].unique().tolist())\n",
    "print(\"geopandas_countries\", len(geopandas_countries), \"teams_countries\", len(teams_countries))\n",
    "print(\"Countries in teams but not found in the geo dataset\")\n",
    "diff_country_names = list(teams_countries-geopandas_countries); diff_country_names\n",
    "diff_country_names"
   ]
  },
  {
   "cell_type": "code",
   "execution_count": 87,
   "metadata": {},
   "outputs": [
    {
     "name": "stdout",
     "output_type": "stream",
     "text": [
      "Czech -  Czechia\n",
      "Korea -  South Korea\n",
      "Iran -  Iran\n",
      "Korea -  North Korea\n",
      "Bah -  Bahamas\n",
      "China -  China\n",
      "Domi -  Dominican Rep.\n",
      "Mol -  Moldova\n"
     ]
    }
   ],
   "source": [
    "subs = [\"Bah\", \"Taipei\", \"Czech\", \"Domi\", \"Great\", \"Britain\", \"Hong\", \"Iran\", \"China\", \"Liech\", \"Korea\", \"ROD\", \"Mol\", \"Sing\"]\n",
    "for country in geopandas_countries:\n",
    "    for sub in subs:\n",
    "        if sub in country:\n",
    "            print(sub, \"- \", country)"
   ]
  },
  {
   "cell_type": "code",
   "execution_count": 90,
   "metadata": {},
   "outputs": [
    {
     "name": "stdout",
     "output_type": "stream",
     "text": [
      "19              Bahamas\n",
      "29               Brazil\n",
      "30              Bolivia\n",
      "39               Belize\n",
      "49             Botswana\n",
      "54                Benin\n",
      "65         Burkina Faso\n",
      "75              Burundi\n",
      "99           Bangladesh\n",
      "100              Bhutan\n",
      "111             Belarus\n",
      "122            Bulgaria\n",
      "129             Belgium\n",
      "149              Brunei\n",
      "170    Bosnia and Herz.\n",
      "Name: name, dtype: object\n",
      "16        Haiti\n",
      "36     Honduras\n",
      "115     Hungary\n",
      "Name: name, dtype: object\n",
      "26        Lesotho\n",
      "63        Liberia\n",
      "77        Lebanon\n",
      "92           Laos\n",
      "118     Lithuania\n",
      "119        Latvia\n",
      "128    Luxembourg\n",
      "164         Libya\n",
      "Name: name, dtype: object\n",
      "18      Russia\n",
      "117    Romania\n",
      "169     Rwanda\n",
      "Name: name, dtype: object\n",
      "64    Sierra Leone\n",
      "Name: name, dtype: object\n",
      "4      United States of America\n",
      "6                    Uzbekistan\n",
      "28                      Uruguay\n",
      "84         United Arab Emirates\n",
      "112                     Ukraine\n",
      "143              United Kingdom\n",
      "168                      Uganda\n",
      "Name: name, dtype: object\n"
     ]
    },
    {
     "data": {
      "text/plain": [
       "\"for country in team_to_geopandas_countries.keys():\\n    print(country)\\n    print(df_[df_['Country'] == country]['Country'].tolist()[0])\""
      ]
     },
     "execution_count": 90,
     "metadata": {},
     "output_type": "execute_result"
    }
   ],
   "source": [
    "team_to_geopandas_countries = { \"People's Republic of China\" : \"China\",\n",
    "                                'Republic of Korea': 'South Korea',\n",
    "                                'Republic of Moldova':'Moldova',\n",
    "                                'Czech Republic':'Czechia',\n",
    "                                'Islamic Republic of Iran':'Iran',\n",
    "                                'Dominican Republic':'Dominican Rep.',\n",
    "                                'ROC' : 'Russia',\n",
    "                                'Great Britain': 'United Kingdom'}\n",
    "\n",
    "print(df_world[df_world['name'].str[0]=='B']['name'])\n",
    "print(df_world[df_world['name'].str[0]=='H']['name'])\n",
    "print(df_world[df_world['name'].str[0]=='L']['name'])\n",
    "print(df_world[df_world['name'].str[0]=='R']['name'])\n",
    "print(df_world[df_world['name'].str[:2]=='Si']['name'])\n",
    "print(df_world[df_world['name'].str[0]=='U']['name'])\n",
    "\n",
    "'''for country in team_to_geopandas_countries.keys():\n",
    "    print(country)\n",
    "    print(df_[df_['Country'] == country]['Country'].tolist()[0])'''"
   ]
  },
  {
   "cell_type": "code",
   "execution_count": 91,
   "metadata": {},
   "outputs": [
    {
     "name": "stdout",
     "output_type": "stream",
     "text": [
      "Before [] ['Czech Republic', 'Islamic Republic of Iran', 'Republic of Korea', \"People's Republic of China\", 'ROC', 'Great Britain']\n",
      "After ['Russia', 'Czechia', 'South Korea', 'United Kingdom', 'China', 'Iran'] []\n"
     ]
    }
   ],
   "source": [
    "print(\"Before\", list(set(df_['Country'].unique().tolist()).intersection(team_to_geopandas_countries.values())), list(set(df_['Country'].unique().tolist()).intersection(team_to_geopandas_countries.keys())))\n",
    "for country in team_to_geopandas_countries.keys():\n",
    "    df_.loc[df_['Country'] == country, 'Country'] = team_to_geopandas_countries[country]\n",
    "print(\"After\", list(set(df_['Country'].unique().tolist()).intersection(team_to_geopandas_countries.values())), list(set(df_['Country'].unique().tolist()).intersection(team_to_geopandas_countries.keys())))"
   ]
  },
  {
   "cell_type": "code",
   "execution_count": 92,
   "metadata": {},
   "outputs": [
    {
     "name": "stdout",
     "output_type": "stream",
     "text": [
      "Type of DataFrame :  <class 'geopandas.geodataframe.GeoDataFrame'> 177\n"
     ]
    },
    {
     "data": {
      "text/html": [
       "<div>\n",
       "<style scoped>\n",
       "    .dataframe tbody tr th:only-of-type {\n",
       "        vertical-align: middle;\n",
       "    }\n",
       "\n",
       "    .dataframe tbody tr th {\n",
       "        vertical-align: top;\n",
       "    }\n",
       "\n",
       "    .dataframe thead th {\n",
       "        text-align: right;\n",
       "    }\n",
       "</style>\n",
       "<table border=\"1\" class=\"dataframe\">\n",
       "  <thead>\n",
       "    <tr style=\"text-align: right;\">\n",
       "      <th></th>\n",
       "      <th>pop_est</th>\n",
       "      <th>continent</th>\n",
       "      <th>name</th>\n",
       "      <th>iso_a3</th>\n",
       "      <th>gdp_md_est</th>\n",
       "      <th>geometry</th>\n",
       "      <th>Rank</th>\n",
       "      <th>Country</th>\n",
       "      <th>Gold Medals</th>\n",
       "      <th>Silver Medals</th>\n",
       "      <th>Bronze Medals</th>\n",
       "      <th>Total Medals</th>\n",
       "    </tr>\n",
       "  </thead>\n",
       "  <tbody>\n",
       "    <tr>\n",
       "      <th>0</th>\n",
       "      <td>920938</td>\n",
       "      <td>Oceania</td>\n",
       "      <td>Fiji</td>\n",
       "      <td>FJI</td>\n",
       "      <td>8374.0</td>\n",
       "      <td>MULTIPOLYGON (((180.00000 -16.06713, 180.00000...</td>\n",
       "      <td>NaN</td>\n",
       "      <td>NaN</td>\n",
       "      <td>NaN</td>\n",
       "      <td>NaN</td>\n",
       "      <td>NaN</td>\n",
       "      <td>NaN</td>\n",
       "    </tr>\n",
       "    <tr>\n",
       "      <th>1</th>\n",
       "      <td>53950935</td>\n",
       "      <td>Africa</td>\n",
       "      <td>Tanzania</td>\n",
       "      <td>TZA</td>\n",
       "      <td>150600.0</td>\n",
       "      <td>POLYGON ((33.90371 -0.95000, 34.07262 -1.05982...</td>\n",
       "      <td>NaN</td>\n",
       "      <td>NaN</td>\n",
       "      <td>NaN</td>\n",
       "      <td>NaN</td>\n",
       "      <td>NaN</td>\n",
       "      <td>NaN</td>\n",
       "    </tr>\n",
       "    <tr>\n",
       "      <th>2</th>\n",
       "      <td>603253</td>\n",
       "      <td>Africa</td>\n",
       "      <td>W. Sahara</td>\n",
       "      <td>ESH</td>\n",
       "      <td>906.5</td>\n",
       "      <td>POLYGON ((-8.66559 27.65643, -8.66512 27.58948...</td>\n",
       "      <td>NaN</td>\n",
       "      <td>NaN</td>\n",
       "      <td>NaN</td>\n",
       "      <td>NaN</td>\n",
       "      <td>NaN</td>\n",
       "      <td>NaN</td>\n",
       "    </tr>\n",
       "    <tr>\n",
       "      <th>3</th>\n",
       "      <td>35623680</td>\n",
       "      <td>North America</td>\n",
       "      <td>Canada</td>\n",
       "      <td>CAN</td>\n",
       "      <td>1674000.0</td>\n",
       "      <td>MULTIPOLYGON (((-122.84000 49.00000, -122.9742...</td>\n",
       "      <td>11.0</td>\n",
       "      <td>Canada</td>\n",
       "      <td>7.0</td>\n",
       "      <td>6.0</td>\n",
       "      <td>11.0</td>\n",
       "      <td>24.0</td>\n",
       "    </tr>\n",
       "    <tr>\n",
       "      <th>4</th>\n",
       "      <td>326625791</td>\n",
       "      <td>North America</td>\n",
       "      <td>United States of America</td>\n",
       "      <td>USA</td>\n",
       "      <td>18560000.0</td>\n",
       "      <td>MULTIPOLYGON (((-122.84000 49.00000, -120.0000...</td>\n",
       "      <td>1.0</td>\n",
       "      <td>United States of America</td>\n",
       "      <td>39.0</td>\n",
       "      <td>41.0</td>\n",
       "      <td>33.0</td>\n",
       "      <td>113.0</td>\n",
       "    </tr>\n",
       "  </tbody>\n",
       "</table>\n",
       "</div>"
      ],
      "text/plain": [
       "     pop_est      continent                      name iso_a3  gdp_md_est  \\\n",
       "0     920938        Oceania                      Fiji    FJI      8374.0   \n",
       "1   53950935         Africa                  Tanzania    TZA    150600.0   \n",
       "2     603253         Africa                 W. Sahara    ESH       906.5   \n",
       "3   35623680  North America                    Canada    CAN   1674000.0   \n",
       "4  326625791  North America  United States of America    USA  18560000.0   \n",
       "\n",
       "                                            geometry  Rank  \\\n",
       "0  MULTIPOLYGON (((180.00000 -16.06713, 180.00000...   NaN   \n",
       "1  POLYGON ((33.90371 -0.95000, 34.07262 -1.05982...   NaN   \n",
       "2  POLYGON ((-8.66559 27.65643, -8.66512 27.58948...   NaN   \n",
       "3  MULTIPOLYGON (((-122.84000 49.00000, -122.9742...  11.0   \n",
       "4  MULTIPOLYGON (((-122.84000 49.00000, -120.0000...   1.0   \n",
       "\n",
       "                    Country  Gold Medals  Silver Medals  Bronze Medals  \\\n",
       "0                       NaN          NaN            NaN            NaN   \n",
       "1                       NaN          NaN            NaN            NaN   \n",
       "2                       NaN          NaN            NaN            NaN   \n",
       "3                    Canada          7.0            6.0           11.0   \n",
       "4  United States of America         39.0           41.0           33.0   \n",
       "\n",
       "   Total Medals  \n",
       "0           NaN  \n",
       "1           NaN  \n",
       "2           NaN  \n",
       "3          24.0  \n",
       "4         113.0  "
      ]
     },
     "execution_count": 92,
     "metadata": {},
     "output_type": "execute_result"
    }
   ],
   "source": [
    "df_world_teams = df_world.merge(df_, how=\"left\", left_on=['name'], right_on=['Country'])\n",
    "print(\"Type of DataFrame : \", type(df_world_teams), df_world_teams.shape[0])\n",
    "df_world_teams.head()"
   ]
  },
  {
   "cell_type": "code",
   "execution_count": 93,
   "metadata": {},
   "outputs": [],
   "source": [
    "from mpl_toolkits.axes_grid1 import make_axes_locatable\n",
    "def addColorbar():\n",
    "    fig, ax = plt.subplots(1, 1, figsize=(20, 16))\n",
    "    divider = make_axes_locatable(ax)\n",
    "    cax = divider.append_axes(\"right\", size=\"2%\", pad=\"0.5%\")\n",
    "    return ax, cax"
   ]
  },
  {
   "cell_type": "code",
   "execution_count": 126,
   "metadata": {},
   "outputs": [
    {
     "data": {
      "text/plain": [
       "Text(0.5, 1.0, 'Olympics 2021: Country & Medals')"
      ]
     },
     "execution_count": 126,
     "metadata": {},
     "output_type": "execute_result"
    },
    {
     "data": {
      "image/png": "[encoded data removed]",
      "text/plain": [
       "<Figure size 1440x1152 with 2 Axes>"
      ]
     },
     "metadata": {
      "needs_background": "light"
     },
     "output_type": "display_data"
    }
   ],
   "source": [
    "ax, cax = addColorbar()\n",
    "df_world[\"geometry\"].boundary.plot(ax=ax,figsize=(20,16))\n",
    "df_world_teams.plot(column=\"Total Medals\", ax=ax,  cax=cax, cmap='OrRd', \n",
    "                    legend=True, legend_kwds={\"label\": \"Medals\"},  )\n",
    "ax.set_title(\"Olympics 2021: Country & Medals\")"
   ]
  },
  {
   "cell_type": "markdown",
   "metadata": {},
   "source": [
    "## Summary\n",
    "We saw how Sankey diagrams can be used to represent flows effectively and how plotly python library can be to generate Sankey diagrams for a sample dataset."
   ]
  }
 ],
 "metadata": {
  "kernelspec": {
   "display_name": "Python 3.9.1 64-bit ('venv': venv)",
   "language": "python",
   "name": "python3"
  },
  "language_info": {
   "codemirror_mode": {
    "name": "ipython",
    "version": 3
   },
   "file_extension": ".py",
   "mimetype": "text/x-python",
   "name": "python",
   "nbconvert_exporter": "python",
   "pygments_lexer": "ipython3",
   "version": "3.9.1"
  },
  "orig_nbformat": 4,
  "vscode": {
   "interpreter": {
    "hash": "8f5cca18c9799494215a7356eee331d41ed62dc1329ea9a38d9c7a02923b99ef"
   }
  }
 },
 "nbformat": 4,
 "nbformat_minor": 2
}
